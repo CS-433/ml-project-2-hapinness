{
 "cells": [
  {
   "cell_type": "markdown",
   "id": "b79dd86e",
   "metadata": {},
   "source": [
    "###  Cauchy 1D Inference Problem\n",
    "\n",
    "Solve: $$y''(t) + 2y'(t) + y(t) = e^{-t}cos(2t)$$\n",
    "For $t>0$ and with initial conditions:\n",
    "$$y(0) = 1, \\; y'(0) = -1$$\n",
    "The exact solution is $$y(t) = -\\frac{1}{4} e^{-t} (cos(2  t) - 5)$$\n",
    "\n",
    "***\n",
    "\n",
    "We will assume $t \\in [0,15]$.<br>\n",
    "$N_u = 1$ our training data ($y(0) = 1 , y'(0) = -1$) and $N_f = 10000$ our collocations points ($t_i \\in [0,10]$ for $i=0,1,...,9999$). <br>\n",
    "NN input is $t$, size 1. <br>\n",
    "NN output is $y(t)$, size 1. <br>\n",
    "We will use 9 hidden layers with 20 nodes and tanh as activation function.<br>  \n",
    "For regularization define: $f = y''(t) + 2y'(t) + y(t) - e^{-t}cos(2t)$"
   ]
  },
  {
   "cell_type": "markdown",
   "id": "f540f6fa",
   "metadata": {},
   "source": [
    "### Data Generation"
   ]
  },
  {
   "cell_type": "code",
   "execution_count": 11,
   "id": "55770913",
   "metadata": {},
   "outputs": [],
   "source": [
    "import numpy as np \n",
    "def exact_y(t):\n",
    "    return -1.0/4 * np.exp(-t)*(np.cos(2*t)-5)\n",
    "\n",
    "def exact_yt(t):\n",
    "    return 1.0/4 * np.exp(-t) * (2*np.sin(2*t)+np.cos(2*t)-5)\n",
    "\n",
    "def exact_ytt(t):\n",
    "    return 1.0/4 * np.exp(-t) * (-4*np.sin(2*t) + 3*np.cos(2*t)+5)\n",
    "\n",
    "\n",
    "def exact_de(t):\n",
    "    return np.exp(-t)*np.cos(2*t)\n",
    "\n",
    "# generating colocation points\n",
    "import random\n",
    "random.seed(1)\n",
    "lower_bound = 0\n",
    "upper_bound = 15\n",
    "N_f = 1000\n",
    "t_f = [random.uniform(lower_bound,upper_bound) for _ in range(N_f)]\n",
    "\n",
    "# generate points for initial conditions\n",
    "N_u = 1\n",
    "t_u = np.array([0.0])\n",
    "y_u = 1\n",
    "yt_u = -1\n",
    "\n",
    "\n",
    "# points for accurate evaluations\n",
    "N_eval = 1000\n",
    "lower_bound = 0\n",
    "upper_bound = 15\n",
    "t_exact = np.linspace(lower_bound,upper_bound,N_eval).reshape(1,-1).T\n",
    "\n",
    "y_exact = exact_y(t_exact).reshape(1,-1).T #exact y(t)"
   ]
  },
  {
   "cell_type": "markdown",
   "id": "30b6e5e5",
   "metadata": {},
   "source": [
    "### PINN Architecture"
   ]
  },
  {
   "cell_type": "code",
   "execution_count": 12,
   "id": "73912159",
   "metadata": {},
   "outputs": [
    {
     "name": "stdout",
     "output_type": "stream",
     "text": [
      "Net(\n",
      "  (fc1): Linear(in_features=1, out_features=20, bias=True)\n",
      "  (fc2): Linear(in_features=20, out_features=20, bias=True)\n",
      "  (fc3): Linear(in_features=20, out_features=20, bias=True)\n",
      "  (fc4): Linear(in_features=20, out_features=20, bias=True)\n",
      "  (fc5): Linear(in_features=20, out_features=20, bias=True)\n",
      "  (fc6): Linear(in_features=20, out_features=20, bias=True)\n",
      "  (fc7): Linear(in_features=20, out_features=20, bias=True)\n",
      "  (fc8): Linear(in_features=20, out_features=20, bias=True)\n",
      "  (fc9): Linear(in_features=20, out_features=1, bias=True)\n",
      ")\n",
      "torch.Size([20, 1])\n",
      "torch.Size([20])\n",
      "torch.Size([20, 20])\n",
      "torch.Size([20])\n",
      "torch.Size([20, 20])\n",
      "torch.Size([20])\n",
      "torch.Size([20, 20])\n",
      "torch.Size([20])\n",
      "torch.Size([20, 20])\n",
      "torch.Size([20])\n",
      "torch.Size([20, 20])\n",
      "torch.Size([20])\n",
      "torch.Size([20, 20])\n",
      "torch.Size([20])\n",
      "torch.Size([20, 20])\n",
      "torch.Size([20])\n",
      "torch.Size([1, 20])\n",
      "torch.Size([1])\n"
     ]
    }
   ],
   "source": [
    "import torch\n",
    "from torch import nn \n",
    "\n",
    "class Net(nn.Module):\n",
    "    def __init__(self):\n",
    "        super(Net, self).__init__() \n",
    "\n",
    "        self.fc1 = nn.Linear(1, 20)\n",
    "        self.fc2 = nn.Linear(20, 20)\n",
    "        self.fc3 = nn.Linear(20, 20)\n",
    "        self.fc4 = nn.Linear(20, 20)\n",
    "        self.fc5 = nn.Linear(20, 20)\n",
    "        self.fc6 = nn.Linear(20, 20)\n",
    "        self.fc7 = nn.Linear(20, 20)\n",
    "        self.fc8 = nn.Linear(20, 20)\n",
    "        self.fc9 = nn.Linear(20, 1)\n",
    "        \n",
    "    def forward(self, x):\n",
    "        x = torch.tanh(self.fc1(x))\n",
    "        x = torch.tanh(self.fc2(x))\n",
    "        x = torch.tanh(self.fc3(x))\n",
    "        x = torch.tanh(self.fc4(x))\n",
    "        x = torch.tanh(self.fc5(x))\n",
    "        x = torch.tanh(self.fc6(x))\n",
    "        x = torch.tanh(self.fc7(x))\n",
    "        x = torch.tanh(self.fc8(x))\n",
    "        x = torch.tanh(self.fc9(x))\n",
    "        return x\n",
    "\n",
    "\n",
    "net = Net()\n",
    "print(net)\n",
    "\n",
    "params = list(net.parameters())\n",
    "#print(len(params))\n",
    "for par in params:\n",
    "    print(par.shape)"
   ]
  },
  {
   "cell_type": "markdown",
   "id": "d2675ac4",
   "metadata": {},
   "source": [
    "### PINN train and loss definition"
   ]
  },
  {
   "cell_type": "code",
   "execution_count": 13,
   "id": "f127548c",
   "metadata": {},
   "outputs": [],
   "source": [
    "import torch.optim as optim\n",
    "import numpy as np\n",
    "\n",
    "class PINN():\n",
    "    def __init__(self, t_u, y_u, yt_u, t_f, max_iter=1000):\n",
    "        \n",
    "        self.device = torch.device('cuda:0' if torch.cuda.is_available() else 'cpu')\n",
    "        print(f\"device used: {self.device}\")\n",
    "        self.t_u = torch.tensor(t_u, requires_grad=True).reshape(1, -1).T.float().to(self.device)\n",
    "        self.t_f = torch.tensor(t_f, requires_grad=True).reshape(1, -1).T.float().to(self.device)\n",
    "        self.y_u = torch.tensor(y_u).float().to(self.device)\n",
    "        self.yt_u = torch.tensor(yt_u).float().to(self.device)\n",
    "        \n",
    "        self.net = Net().to(self.device)\n",
    "        \n",
    "        self.optimizer = optim.Adam(self.net.parameters())\n",
    "        \n",
    "        self.max_iter = max_iter\n",
    "\n",
    "        self.iter = 0\n",
    "        \n",
    "    def net_y(self,t): #get y(t) for a t; a forward pass through the PINN\n",
    "        y = self.net(t)\n",
    "        return y\n",
    "   \n",
    "    def net_yt(self, t):\n",
    "        y = self.net_y(t)\n",
    "        yt = torch.autograd.grad( #first partial derivative with respect to t\n",
    "            y, t, \n",
    "            grad_outputs=torch.ones_like(y),\n",
    "            retain_graph=True,\n",
    "            create_graph=True\n",
    "        )[0]\n",
    "        return yt\n",
    "    \n",
    "    def net_ytt(self, t):\n",
    "        y = self.net_y(t)\n",
    "        yt = torch.autograd.grad( #first partial derivative with respect to t\n",
    "            y, t, \n",
    "            grad_outputs=torch.ones_like(y),\n",
    "            retain_graph=True,\n",
    "            create_graph=True\n",
    "        )[0]\n",
    "        ytt = torch.autograd.grad( #second partial derivative with respect to t\n",
    "            yt, t, \n",
    "            grad_outputs=torch.ones_like(yt),\n",
    "            retain_graph=True,\n",
    "            create_graph=True\n",
    "        )[0]\n",
    "        return ytt\n",
    "        \n",
    "    \n",
    "    def net_f(self, t): #get f = ytt + 2 * yt + y - exp(-t)cos(2t)\n",
    "        y = self.net_y(t)\n",
    "        yt = torch.autograd.grad( #first partial derivative with respect to t\n",
    "            y, t, \n",
    "            grad_outputs=torch.ones_like(y),\n",
    "            retain_graph=True,\n",
    "            create_graph=True\n",
    "        )[0]\n",
    "        ytt = torch.autograd.grad( #second partial derivative with respect to t\n",
    "            yt, t, \n",
    "            grad_outputs=torch.ones_like(yt),\n",
    "            retain_graph=True,\n",
    "            create_graph=True\n",
    "        )[0]\n",
    "        f = ytt + 2 * yt + y - torch.exp(-t) * torch.cos(2 * t)\n",
    "        return f\n",
    "\n",
    "    def loss_func(self):\n",
    "        self.optimizer.zero_grad()\n",
    "        \n",
    "        y_pred = self.net_y(self.t_u) \n",
    "        yt_pred = self.net_yt(self.t_u)\n",
    "        f_pred = self.net_f(self.t_f) \n",
    "        loss_y = torch.mean((self.y_u - y_pred) ** 2) + torch.mean((self.yt_u - yt_pred) ** 2)\n",
    "        loss_f = torch.mean(f_pred ** 2) \n",
    "        \n",
    "        loss = loss_y + loss_f #classic loss + regularization loss (enforce the PDE structure) => PINN loss\n",
    "        \n",
    "        loss.backward() #backpropagation\n",
    "        self.iter += 1\n",
    "        if self.iter % 100 == 0:\n",
    "            print(\n",
    "                'Iter %d, Loss: %.5e, Loss_u: %.5e, Loss_f: %.5e' % (self.iter, loss.item(), loss_y.item(), loss_f.item())\n",
    "            )\n",
    "        return loss\n",
    "    \n",
    "    def train(self):\n",
    "        for i in range(self.max_iter):\n",
    "            self.net.train()\n",
    "                \n",
    "            # Backward and optimize\n",
    "            self.optimizer.step(self.loss_func)\n",
    "\n",
    "            \n",
    "    def predict(self, t):\n",
    "        self.net.eval()\n",
    "        t_asTorch = torch.tensor(t, requires_grad=True).reshape(1, -1).T.float().to(self.device)\n",
    "        y = self.net_y(t_asTorch) \n",
    "        y = y.detach().cpu().numpy()\n",
    "        return y"
   ]
  },
  {
   "cell_type": "markdown",
   "id": "17870d6d",
   "metadata": {},
   "source": [
    "### Training"
   ]
  },
  {
   "cell_type": "code",
   "execution_count": null,
   "id": "e2f97009",
   "metadata": {},
   "outputs": [
    {
     "name": "stdout",
     "output_type": "stream",
     "text": [
      "device used: cpu\n"
     ]
    }
   ],
   "source": [
    "max_iter = 1000\n",
    "model = PINN(t_u, y_u, yt_u, t_f)\n",
    "model.train()"
   ]
  },
  {
   "cell_type": "markdown",
   "id": "0407bd05",
   "metadata": {},
   "source": [
    "### Relative error L2"
   ]
  },
  {
   "cell_type": "code",
   "execution_count": 5,
   "id": "3242d980",
   "metadata": {},
   "outputs": [
    {
     "name": "stdout",
     "output_type": "stream",
     "text": [
      "L2 Error y(t): 1.714918e-01\n"
     ]
    }
   ],
   "source": [
    "y_pred = model.predict(t_exact) \n",
    "\n",
    "error_y = np.linalg.norm(y_exact-y_pred,2)/np.linalg.norm(y_exact,2) \n",
    "print('L2 Error y(t): %e' % (error_y))    "
   ]
  },
  {
   "cell_type": "markdown",
   "id": "2b017526",
   "metadata": {},
   "source": [
    "### Relative Error MSE"
   ]
  },
  {
   "cell_type": "code",
   "execution_count": 7,
   "id": "394b09d5",
   "metadata": {},
   "outputs": [
    {
     "name": "stdout",
     "output_type": "stream",
     "text": [
      "MSE Error y(t): 1.275671e-03\n"
     ]
    }
   ],
   "source": [
    "mse_y = ((y_exact - y_pred)**2).mean(axis=0) \n",
    "\n",
    "print('MSE Error y(t): %e' % (mse_y))   "
   ]
  },
  {
   "cell_type": "markdown",
   "id": "155ffb75",
   "metadata": {},
   "source": [
    "### Plot"
   ]
  },
  {
   "cell_type": "code",
   "execution_count": 10,
   "id": "08e8f1eb",
   "metadata": {},
   "outputs": [
    {
     "data": {
      "text/plain": [
       "Text(0.5, 1.0, 'PINN Inference Performance y(t)')"
      ]
     },
     "execution_count": 10,
     "metadata": {},
     "output_type": "execute_result"
    },
    {
     "data": {
      "image/png": "[encoded data removed]",
      "text/plain": [
       "<Figure size 800x600 with 1 Axes>"
      ]
     },
     "metadata": {},
     "output_type": "display_data"
    }
   ],
   "source": [
    "import matplotlib.pyplot as plt\n",
    "plt.figure(figsize=(8, 6), dpi=100)\n",
    "plt.plot(t_exact, y_exact, color=\"red\", linewidth=2, label='y(t) true')\n",
    "plt.plot(t_exact, y_pred, color=\"black\",linestyle='--', linewidth=2, label='y(t) pred')\n",
    "plt.legend()\n",
    "plt.grid()\n",
    "plt.xlabel(\"t\")\n",
    "plt.ylabel(\"y(t)\")\n",
    "plt.title(\"PINN Inference Performance y(t)\")"
   ]
  },
  {
   "cell_type": "code",
   "execution_count": null,
   "id": "786a9da9",
   "metadata": {},
   "outputs": [],
   "source": []
  }
 ],
 "metadata": {
  "kernelspec": {
   "display_name": "Python 3 (ipykernel)",
   "language": "python",
   "name": "python3"
  },
  "language_info": {
   "codemirror_mode": {
    "name": "ipython",
    "version": 3
   },
   "file_extension": ".py",
   "mimetype": "text/x-python",
   "name": "python",
   "nbconvert_exporter": "python",
   "pygments_lexer": "ipython3",
   "version": "3.9.12"
  }
 },
 "nbformat": 4,
 "nbformat_minor": 5
}
