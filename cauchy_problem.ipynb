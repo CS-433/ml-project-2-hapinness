{
 "cells": [
  {
   "cell_type": "code",
   "execution_count": 4,
   "id": "dbc04185-613d-495e-959b-70886a28eb2d",
   "metadata": {},
   "outputs": [],
   "source": [
    "import torch\n",
    "from torch import nn \n",
    "from torch.nn import functional as F\n",
    "from torch import optim\n",
    "from torch.utils.data import Dataset, DataLoader\n",
    "import time\n",
    "import math\n",
    "import seaborn as sns\n",
    "import numpy as np\n",
    "from matplotlib import pyplot as plt"
   ]
  },
  {
   "cell_type": "code",
   "execution_count": 5,
   "id": "cb7c1e2f-48f9-4a6a-bbb9-a5a05057a79e",
   "metadata": {},
   "outputs": [],
   "source": [
    "class NN(nn.Module):\n",
    "    def __init__(self,):\n",
    "        super(NN, self).__init__()\n",
    "        #Linear layers\n",
    "        self.mod = nn.Sequential(\n",
    "            nn.Linear(1, 20),\n",
    "            torch.nn.Tanh(),\n",
    "            nn.Linear(20, 20),\n",
    "            torch.nn.Tanh(),\n",
    "            nn.Linear(20, 20),\n",
    "            torch.nn.Tanh(),\n",
    "            nn.Linear(20, 20),\n",
    "            torch.nn.Tanh(),\n",
    "            nn.Linear(20, 20),\n",
    "            torch.nn.Tanh(),\n",
    "            nn.Linear(20, 20),\n",
    "            torch.nn.Tanh(),\n",
    "            nn.Linear(20, 20),\n",
    "            torch.nn.Tanh(),\n",
    "            nn.Linear(20, 20),\n",
    "            torch.nn.Tanh(),\n",
    "            nn.Linear(20, 1)\n",
    "        )\n",
    "        \n",
    "    def forward(self, inpu):\n",
    "        out = self.mod(inpu)\n",
    "        return out"
   ]
  },
  {
   "cell_type": "code",
   "execution_count": 45,
   "id": "8686237b-68e1-434d-81af-3c66905c3b26",
   "metadata": {},
   "outputs": [],
   "source": [
    "class Model:\n",
    "    def __init__(self):\n",
    "        device = torch.device(\"cuda\") if torch.cuda.is_available() else torch.device(\"cpu\")\n",
    "\n",
    "        self.model = NN().to(device)\n",
    "        \n",
    "        #Max iteration\n",
    "        self.max_iter = 1000\n",
    "        \n",
    "        #Criterion for loss \n",
    "        self.criterion = nn.MSELoss()\n",
    "        \n",
    "        #Optimizer\n",
    "        self.optimizer = optim.Adam(self.model.parameters())\n",
    "        \n",
    "        self.lbfgs = torch.optim.LBFGS(\n",
    "            self.model.parameters(), \n",
    "            lr=1.0, \n",
    "            max_iter=50000, \n",
    "            max_eval=50000, \n",
    "            history_size=50,\n",
    "            tolerance_grad=1e-5, \n",
    "            tolerance_change=1.0 * np.finfo(float).eps\n",
    "        )\n",
    "        \n",
    "        #Initialization for training\n",
    "        self.t_step = 0.01\n",
    "        t = torch.arange(0, 15 + self.t_step, self.t_step) #create grid for t-axis\n",
    "        print(t.shape)\n",
    "        #Create grid for solution\n",
    "        self.grid = t.reshape(1, -1).T.to(device)  # no need to create grid for 1D problem\n",
    "        self.grid.requires_grad = True\n",
    "        print(self.grid.shape)\n",
    "        #Training data\n",
    "        initial = torch.tensor([t[0]]*len(t)) # Points for boundary conditions (both are same)\n",
    "        print(initial.shape)\n",
    "        self.train_points = initial.reshape(1, -1).T.to(device) # Training points as a grid\n",
    "        self.train_points.requires_grad = True\n",
    "        print(self.train_points.shape)\n",
    "        self.u_initial = torch.ones(len(initial)).reshape(1,-1).T.to(device)\n",
    "        self.ut_initial = -1*torch.ones(len(initial)).reshape(1,-1).T.to(device)\n",
    "        print(self.u_initial.shape)\n",
    "        print(self.ut_initial.shape)\n",
    "        print(self.u_initial)\n",
    "        print(self.ut_initial)\n",
    "        \"\"\"\n",
    "        self.X = self.X.to(device)\n",
    "        self.X_train = self.X_train.to(device)\n",
    "        self.y_train = self.y_train.to(device)\n",
    "        self.X.requires_grad = True\n",
    "        \"\"\"\n",
    "        self.iter = 1\n",
    "\n",
    "\n",
    "    \n",
    "    def loss(self):\n",
    "        self.lbfgs.zero_grad()\n",
    "        \n",
    "        y = self.model(self.train_points) \n",
    "        dy_dt = torch.autograd.grad(inputs=self.train_points, outputs=y, grad_outputs=torch.ones_like(y), retain_graph=True, create_graph=True)[0]\n",
    "        \n",
    "        loss = self.criterion(y, self.u_initial) #Compute first part of loss #should be a constant\n",
    "        loss += self.criterion(dy_dt, self.ut_initial) #Compute second part of loss #should be a constant\n",
    "        \n",
    "        u = self.model(self.grid)\n",
    "        #Compute gradients of grid with respect to t\n",
    "        du_dt = torch.autograd.grad(inputs=self.grid, outputs=u, grad_outputs=torch.ones_like(u), retain_graph=True, create_graph=True)[0]\n",
    "        du_dt2 = torch.autograd.grad(inputs=self.grid, outputs=du_dt, grad_outputs=torch.ones_like(du_dt), retain_graph=True, create_graph=True)[0]\n",
    "\n",
    "        loss += self.criterion(du_dt2 + 2*du_dt + u, torch.exp(-self.grid)*torch.cos(2*self.grid)) #third part of loss, using f(t,x) as in paper\n",
    "        \n",
    "        loss.backward()\n",
    "        #Print loss every 100 iteration\n",
    "        if self.iter % 100 == 0: \n",
    "            print(self.iter, loss.item())\n",
    "        self.iter = self.iter + 1\n",
    "        return loss\n",
    "\n",
    "    def train(self):\n",
    "        for i in range(self.max_iter):\n",
    "            self.optimizer.step(self.loss)\n",
    "        #self.lbfgs.step(self.loss)\n",
    "    \n",
    "    def predict(self):\n",
    "        y_pred = self.model(self.grid)\n",
    "        dy_dt = torch.autograd.grad(inputs=self.grid, outputs=y_pred, grad_outputs=torch.ones_like(y_pred), retain_graph=True, create_graph=True)[0]\n",
    "        dy_dt2 = torch.autograd.grad(inputs=self.grid, outputs=dy_dt, grad_outputs=torch.ones_like(dy_dt), retain_graph=True, create_graph=True)[0]\n",
    "        return dy_dt2 + 2*dy_dt + y_pred - torch.exp(-self.grid)*torch.cos(2*self.grid)"
   ]
  },
  {
   "cell_type": "code",
   "execution_count": 46,
   "id": "b09dd9e2-79fb-4883-ad37-4b2d71e32ba4",
   "metadata": {
    "scrolled": true
   },
   "outputs": [
    {
     "name": "stdout",
     "output_type": "stream",
     "text": [
      "torch.Size([1501])\n",
      "torch.Size([1501, 1])\n",
      "torch.Size([1501])\n",
      "torch.Size([1501, 1])\n",
      "torch.Size([1501, 1])\n",
      "torch.Size([1501, 1])\n",
      "tensor([[1.],\n",
      "        [1.],\n",
      "        [1.],\n",
      "        ...,\n",
      "        [1.],\n",
      "        [1.],\n",
      "        [1.]], device='cuda:0')\n",
      "tensor([[-1.],\n",
      "        [-1.],\n",
      "        [-1.],\n",
      "        ...,\n",
      "        [-1.],\n",
      "        [-1.],\n",
      "        [-1.]], device='cuda:0')\n",
      "100 0.03281087800860405\n",
      "200 0.0017206222983077168\n",
      "300 0.0007291760412044823\n",
      "400 0.000536031904630363\n",
      "500 0.00042519651469774544\n",
      "600 0.0003545424260664731\n",
      "700 0.000306614296277985\n",
      "800 0.00027116277487948537\n",
      "900 0.00024574738927185535\n",
      "1000 0.0002208089572377503\n"
     ]
    }
   ],
   "source": [
    "model = Model()\n",
    "model.train()"
   ]
  },
  {
   "cell_type": "code",
   "execution_count": 66,
   "id": "37c0e58e",
   "metadata": {},
   "outputs": [
    {
     "name": "stdout",
     "output_type": "stream",
     "text": [
      "tensor(1.9065e-05)\n"
     ]
    },
    {
     "data": {
      "image/png": "[encoded data removed]",
      "text/plain": [
       "<Figure size 432x288 with 1 Axes>"
      ]
     },
     "metadata": {
      "needs_background": "light"
     },
     "output_type": "display_data"
    }
   ],
   "source": [
    "def result_funct(t):\n",
    "    return (5/4)*torch.exp(-t) - (1/4)*torch.exp(-t)*torch.cos(2*t)\n",
    "\n",
    "time_step = 0.001 #pourquoi /10\n",
    "device = torch.device(\"cuda\") if torch.cuda.is_available() else torch.device(\"cpu\")\n",
    "time = torch.arange(0, 15 + time_step, time_step).reshape(1,-1).T.to(device)\n",
    "\n",
    "f_pred = model.predict()\n",
    "mod = model.model\n",
    "mod.eval()\n",
    "with torch.no_grad():\n",
    "    y_pred = mod(time)#.cpu()\n",
    "    #f_pred = \n",
    "\n",
    "y_pred = y_pred.detach().cpu()\n",
    "time = time.detach().cpu()\n",
    "mse = nn.MSELoss()\n",
    "error = mse(y_pred, result_funct(time))\n",
    "\n",
    "fig, ax = plt.subplots()\n",
    "ax.plot(time, result_funct(time), color='black',linestyle='--', linewidth=2, label='True solution')\n",
    "ax.plot(time, y_pred, color='blue', linestyle=':', linewidth=2, label='PINN estimation')\n",
    "ax.legend()\n",
    "plt.suptitle(\"Cauchy problem plotted\")\n",
    "plt.title(\"MSE of estimated solution: %f\" %error, fontsize=8)\n",
    "plt.xlabel(\"time (t)\")\n",
    "plt.ylabel(\"u(t)\")\n",
    "fig.show\n",
    "print(error)"
   ]
  },
  {
   "cell_type": "code",
   "execution_count": 70,
   "id": "65906ee2-008c-4597-8a09-ec83dc88def2",
   "metadata": {},
   "outputs": [
    {
     "data": {
      "text/plain": [
       "<bound method Figure.show of <Figure size 432x288 with 1 Axes>>"
      ]
     },
     "execution_count": 70,
     "metadata": {},
     "output_type": "execute_result"
    },
    {
     "data": {
      "image/png": "[encoded data removed]",
      "text/plain": [
       "<Figure size 432x288 with 1 Axes>"
      ]
     },
     "metadata": {
      "needs_background": "light"
     },
     "output_type": "display_data"
    }
   ],
   "source": [
    "fig, ax = plt.subplots()\n",
    "\n",
    "ax.plot(torch.arange(0, 15 + 0.01, 0.01).reshape(1,-1).T, np.zeros(len(torch.arange(0, 15 + 0.01, 0.01).reshape(1,-1).T)), color='red', linewidth=2, label='DE true')\n",
    "ax.plot(torch.arange(0, 15 + 0.01, 0.01).reshape(1,-1).T, f_pred.detach().cpu(), color='blue', linestyle=':', linewidth=2, label='DE')\n",
    "fig.show"
   ]
  },
  {
   "cell_type": "code",
   "execution_count": 64,
   "id": "ae008376",
   "metadata": {},
   "outputs": [
    {
     "data": {
      "text/plain": [
       "tensor([0.0002], device='cuda:0', grad_fn=<MeanBackward1>)"
      ]
     },
     "execution_count": 64,
     "metadata": {},
     "output_type": "execute_result"
    }
   ],
   "source": [
    "torch.mean((f_pred-torch.mean(f_pred,axis=0))**2,axis=0)"
   ]
  },
  {
   "cell_type": "code",
   "execution_count": null,
   "id": "79950cc2",
   "metadata": {},
   "outputs": [],
   "source": []
  }
 ],
 "metadata": {
  "kernelspec": {
   "display_name": "Python 3 (ipykernel)",
   "language": "python",
   "name": "python3"
  },
  "language_info": {
   "codemirror_mode": {
    "name": "ipython",
    "version": 3
   },
   "file_extension": ".py",
   "mimetype": "text/x-python",
   "name": "python",
   "nbconvert_exporter": "python",
   "pygments_lexer": "ipython3",
   "version": "3.9.9"
  }
 },
 "nbformat": 4,
 "nbformat_minor": 5
}
