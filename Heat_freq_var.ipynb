{
 "cells": [
  {
   "cell_type": "markdown",
   "id": "1dc55937",
   "metadata": {},
   "source": [
    "### 1D Heat equation\n",
    "Assume a thin rod of length $L$, we would like to model the heat (thermal energy) along it. <br>\n",
    "Let $u(x,t)$ be the temperature in the rod at position $x$ and time $t$. <br>\n",
    "Under ideal conditions: perfect insulation, no external heat sources, uniform rod material; the temperature is given by the following PDE (partial derivative equation): \n",
    "$$\\frac{\\partial u(t,x)}{\\partial t} = a^2 \\frac{\\partial^2 u(t,x)}{\\partial x^2}$$<br>\n",
    "$$u(0,t) = u(L,t) = 0 \\textrm{, which are the Dirichlet boundary conditions}$$ <br>\n",
    "$$u(x,0) = f(x) \\textrm{, which is the initial condition}$$<br>\n",
    "$$x \\in [0,L], \\textrm{ }t > 0$$\n",
    "\n",
    "We will take the following initial condition: $f(x) = 2sin\\left( \\frac{\\pi x}{L} \\right) - sin\\left( \\frac{3 \\pi x }{L} \\right) $\n",
    "***\n",
    "FYI here is the analytical solution.<br><br>\n",
    "$u(x,t)$ can be written as: $$u(x,t) = v(x)w(t)$$\n",
    "The PDE becomes:\n",
    "$$v(x)w'(t) = a^2v''(x)w(t)$$\n",
    "which can be written as:\n",
    "$$ \\frac{v''(x)}{v(x)} = \\frac{w'(t)}{a^2 w(t)} = - \\lambda $$ <br>\n",
    "where $\\lambda$ is a constant. We get two subproblems: <br><br>\n",
    "$$v''(x) + \\lambda v(x) = 0, v(0)=v(L)=0$$\n",
    "and $$w'(t) + a^2\\lambda w(t) = 0$$ <br> \n",
    "The first sub-problem is a *Sturm-Liouville problem*, where the solution is given by <br> <br>\n",
    "$$v(x) = \\alpha _n sin\\left( \\frac{n \\pi}{L}x \\right), \\lambda = \\left( \\frac{n \\pi}{L} \\right) ^2, \\alpha _n \\textrm{  an arbitrary constant}$$ <br>\n",
    "The solution of the second sub-problem can be solved by integration : \n",
    "$$\\frac{dw}{w} = -a^2 \\lambda dt$$\n",
    "$$ln(w) = -a^2 \\lambda t$$\n",
    "$$w(t) = exp\\left( -a^2 \\left( \\frac{n \\pi}{L} \\right)^2 t \\right)$$ <br>\n",
    "Without the initial condition, the general solution is \n",
    "$$u(x,t) = \\sum _ {n=1}^{\\infty} \\alpha _n sin\\left( \\frac{n \\pi}{L}x \\right) \\: exp\\left( -a^2 \\left( \\frac{n \\pi}{L}\\right) ^2t \\right)$$\n",
    "with $\\alpha _n$ arbitrary constants. <br><br>\n",
    "Finally, let's add the initial condition: \n",
    "$$u(x,0) = \\sum _ {n=1}^{\\infty} \\alpha _n sin\\left( \\frac{n \\pi}{L}x \\right) = f(x) =  2sin\\left( \\frac{\\pi x}{L} \\right) - sin\\left( \\frac{3 \\pi x }{L} \\right)$$ <br>\n",
    "To the satisfy the inital condition, the constants $\\alpha _n$ should be the Fourier coefficients of the sine series:\n",
    "$$\\alpha _n = \\frac{2}{L}\\int_{0}^{y} f(y)sin \\left(\\frac{n \\pi}{L}   y\\right) \\,dy $$ <br>\n",
    "From our inital solution: $\\alpha_1 = 2$ and $\\alpha_3 = -1$ <br><br>\n",
    "$$u(x,t) = 2sin\\left( \\frac{\\pi}{L}x \\right)exp\\left(-a^2 \\left( \\frac{\\pi}{L} \\right)^2t \\right) -sin\\left( \\frac{3 \\pi}{L}x \\right)exp\\left(-a^2 \\left( \\frac{3 \\pi}{L} \\right)^2t \\right)$$"
   ]
  },
  {
   "cell_type": "code",
   "execution_count": null,
   "id": "9459287d",
   "metadata": {},
   "outputs": [],
   "source": []
  }
 ],
 "metadata": {
  "kernelspec": {
   "display_name": "Python 3 (ipykernel)",
   "language": "python",
   "name": "python3"
  },
  "language_info": {
   "codemirror_mode": {
    "name": "ipython",
    "version": 3
   },
   "file_extension": ".py",
   "mimetype": "text/x-python",
   "name": "python",
   "nbconvert_exporter": "python",
   "pygments_lexer": "ipython3",
   "version": "3.9.9"
  }
 },
 "nbformat": 4,
 "nbformat_minor": 5
}
