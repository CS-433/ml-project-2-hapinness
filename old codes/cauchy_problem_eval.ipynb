{
 "cells": [
  {
   "cell_type": "code",
   "execution_count": 14,
   "id": "dbc04185-613d-495e-959b-70886a28eb2d",
   "metadata": {},
   "outputs": [],
   "source": [
    "import torch\n",
    "from torch import nn \n",
    "from torch import optim\n",
    "import math\n",
    "import numpy as np\n",
    "from matplotlib import pyplot as plt"
   ]
  },
  {
   "cell_type": "code",
   "execution_count": 15,
   "id": "cb7c1e2f-48f9-4a6a-bbb9-a5a05057a79e",
   "metadata": {},
   "outputs": [],
   "source": [
    "class NN(nn.Module):\n",
    "    def __init__(self,):\n",
    "        super(NN, self).__init__()\n",
    "        #Linear layers\n",
    "        self.mod = nn.Sequential(\n",
    "            nn.Linear(1, 20),\n",
    "            torch.nn.Tanh(),\n",
    "            nn.Linear(20, 20),\n",
    "            torch.nn.Tanh(),\n",
    "            nn.Linear(20, 20),\n",
    "            torch.nn.Tanh(),\n",
    "            nn.Linear(20, 20),\n",
    "            torch.nn.Tanh(),\n",
    "            nn.Linear(20, 20),\n",
    "            torch.nn.Tanh(),\n",
    "            nn.Linear(20, 20),\n",
    "            torch.nn.Tanh(),\n",
    "            nn.Linear(20, 20),\n",
    "            torch.nn.Tanh(),\n",
    "            nn.Linear(20, 20),\n",
    "            torch.nn.Tanh(),\n",
    "            nn.Linear(20, 1)\n",
    "        )\n",
    "        \n",
    "    def forward(self, inpu):\n",
    "        out = self.mod(inpu)\n",
    "        return out"
   ]
  },
  {
   "cell_type": "code",
   "execution_count": 16,
   "id": "0acce7eb",
   "metadata": {},
   "outputs": [
    {
     "name": "stdout",
     "output_type": "stream",
     "text": [
      "NN(\n",
      "  (mod): Sequential(\n",
      "    (0): Linear(in_features=1, out_features=20, bias=True)\n",
      "    (1): Tanh()\n",
      "    (2): Linear(in_features=20, out_features=20, bias=True)\n",
      "    (3): Tanh()\n",
      "    (4): Linear(in_features=20, out_features=20, bias=True)\n",
      "    (5): Tanh()\n",
      "    (6): Linear(in_features=20, out_features=20, bias=True)\n",
      "    (7): Tanh()\n",
      "    (8): Linear(in_features=20, out_features=20, bias=True)\n",
      "    (9): Tanh()\n",
      "    (10): Linear(in_features=20, out_features=20, bias=True)\n",
      "    (11): Tanh()\n",
      "    (12): Linear(in_features=20, out_features=20, bias=True)\n",
      "    (13): Tanh()\n",
      "    (14): Linear(in_features=20, out_features=20, bias=True)\n",
      "    (15): Tanh()\n",
      "    (16): Linear(in_features=20, out_features=1, bias=True)\n",
      "  )\n",
      ")\n",
      "torch.Size([20, 1])\n",
      "torch.Size([20])\n",
      "torch.Size([20, 20])\n",
      "torch.Size([20])\n",
      "torch.Size([20, 20])\n",
      "torch.Size([20])\n",
      "torch.Size([20, 20])\n",
      "torch.Size([20])\n",
      "torch.Size([20, 20])\n",
      "torch.Size([20])\n",
      "torch.Size([20, 20])\n",
      "torch.Size([20])\n",
      "torch.Size([20, 20])\n",
      "torch.Size([20])\n",
      "torch.Size([20, 20])\n",
      "torch.Size([20])\n",
      "torch.Size([1, 20])\n",
      "torch.Size([1])\n"
     ]
    }
   ],
   "source": [
    "net = NN()\n",
    "print(net)\n",
    "\n",
    "params = list(net.parameters())\n",
    "#print(len(params))\n",
    "for par in params:\n",
    "    print(par.shape)"
   ]
  },
  {
   "cell_type": "code",
   "execution_count": 20,
   "id": "8686237b-68e1-434d-81af-3c66905c3b26",
   "metadata": {},
   "outputs": [],
   "source": [
    "class Model:\n",
    "    def __init__(self):\n",
    "        device = torch.device(\"cuda\") if torch.cuda.is_available() else torch.device(\"cpu\")\n",
    "        self.model = NN().to(device)\n",
    "        \n",
    "        #Max iteration\n",
    "        self.max_iter = 1000\n",
    "        \n",
    "        #Criterion for loss \n",
    "        self.criterion = nn.MSELoss()\n",
    "        \n",
    "        #Optimizer\n",
    "        self.optimizer = torch.optim.LBFGS(\n",
    "            self.model.parameters(), \n",
    "            lr=1.0, \n",
    "            max_iter=50000, \n",
    "            max_eval=50000, \n",
    "            history_size=100,\n",
    "            tolerance_grad=1e-6, \n",
    "            tolerance_change=1.0 * np.finfo(float).eps,\n",
    "            line_search_fn=\"strong_wolfe\" \n",
    "        )\n",
    "        \n",
    "        #Initialization for training\n",
    "        self.t_step = 0.01\n",
    "        t = torch.arange(0, 15 + self.t_step, self.t_step) #create grid for t-axis #[0, 15] 1500\n",
    "        #print(t.shape)\n",
    "        #Create grid for solution\n",
    "        self.grid = t.reshape(1, -1).T.to(device)  # no need to create grid for 1D problem #collocations\n",
    "        self.grid.requires_grad = True\n",
    "        #print(self.grid.shape)\n",
    "        #Training data\n",
    "        initial = torch.tensor([t[0]]) # Points for boundary conditions (both are same) #t=0, t=0, t=0, t=0, ...\n",
    "        #print(initial.shape)\n",
    "        self.train_points = initial.reshape(1, -1).T.to(device) # Training points as a grid\n",
    "        self.train_points.requires_grad = True\n",
    "        #print(self.train_points.shape)\n",
    "        self.u_initial = torch.ones(len(initial)).reshape(1,-1).T.to(device) #1, 1, 1, 1\n",
    "        self.ut_initial = -1*torch.ones(len(initial)).reshape(1,-1).T.to(device) #-1, -1, -1, -1, -1 ...\n",
    "        #print(self.u_initial.shape)\n",
    "        #print(self.ut_initial.shape)\n",
    "        #print(self.u_initial)\n",
    "        #print(self.ut_initial)\n",
    "        #print(self.train_points)\n",
    "\n",
    "        self.iter = 1\n",
    "\n",
    "\n",
    "    \n",
    "    def loss(self):\n",
    "        self.optimizer.zero_grad()\n",
    "        \n",
    "        y = self.model(self.train_points) #0 taille 1500\n",
    "        dy_dt = torch.autograd.grad(inputs=self.train_points, outputs=y, grad_outputs=torch.ones_like(y), retain_graph=True, create_graph=True)[0]\n",
    "        \n",
    "        loss = self.criterion(y, self.u_initial) #Compute first part of loss #should be a constant\n",
    "        loss += self.criterion(dy_dt, self.ut_initial) #Compute second part of loss #should be a constant\n",
    "        \n",
    "        u = self.model(self.grid)\n",
    "        #Compute gradients of grid with respect to t\n",
    "        du_dt = torch.autograd.grad(inputs=self.grid, outputs=u, grad_outputs=torch.ones_like(u), retain_graph=True, create_graph=True)[0]\n",
    "        du_dt2 = torch.autograd.grad(inputs=self.grid, outputs=du_dt, grad_outputs=torch.ones_like(du_dt), retain_graph=True, create_graph=True)[0]\n",
    "\n",
    "        loss += self.criterion(du_dt2 + 2*du_dt + u, torch.exp(-self.grid)*torch.cos(2*self.grid)) #third part of loss, using f(t,x) as in paper\n",
    "        \n",
    "        loss.backward()\n",
    "        #Print loss every 100 iteration\n",
    "        if self.iter % 100 == 0: \n",
    "            print(self.iter, loss.item())\n",
    "        self.iter = self.iter + 1\n",
    "        return loss\n",
    "\n",
    "    def train(self):\n",
    "        for i in range(self.max_iter):\n",
    "            self.optimizer.step(self.loss)\n",
    "        #self.lbfgs.step(self.loss)\n",
    "    \n",
    "    def predict(self):\n",
    "        y_pred = self.model(self.grid)\n",
    "        dy_dt = torch.autograd.grad(inputs=self.grid, outputs=y_pred, grad_outputs=torch.ones_like(y_pred), retain_graph=True, create_graph=True)[0]\n",
    "        dy_dt2 = torch.autograd.grad(inputs=self.grid, outputs=dy_dt, grad_outputs=torch.ones_like(dy_dt), retain_graph=True, create_graph=True)[0]\n",
    "        return dy_dt2 + 2*dy_dt + y_pred - torch.exp(-self.grid)*torch.cos(2*self.grid)"
   ]
  },
  {
   "cell_type": "code",
   "execution_count": 21,
   "id": "b09dd9e2-79fb-4883-ad37-4b2d71e32ba4",
   "metadata": {
    "scrolled": true
   },
   "outputs": [
    {
     "name": "stdout",
     "output_type": "stream",
     "text": [
      "100 9.806160960579291e-05\n",
      "200 3.0458155379164964e-05\n",
      "300 2.1461642973008566e-05\n",
      "400 1.6279282135656103e-05\n",
      "500 1.0916713108599652e-05\n",
      "600 6.783859589631902e-06\n",
      "700 3.5588432183430996e-06\n",
      "800 2.193517047999194e-06\n",
      "900 1.8465620996721555e-06\n",
      "1000 1.5318776149797486e-06\n",
      "1100 1.2590396636369405e-06\n",
      "1200 1.0448112561789458e-06\n",
      "1300 9.383588803757448e-07\n",
      "1400 8.114756155919167e-07\n",
      "1500 5.895538492950436e-07\n",
      "1600 5.729116310249083e-07\n",
      "1700 5.725143523704901e-07\n",
      "1800 5.725181608795538e-07\n",
      "1900 5.725096343667246e-07\n",
      "2000 5.725464120587276e-07\n",
      "2100 5.725149208046787e-07\n",
      "2200 5.725207188334025e-07\n",
      "2300 5.725096343667246e-07\n",
      "2400 5.725143523704901e-07\n",
      "2500 5.725181608795538e-07\n",
      "2600 5.725096343667246e-07\n",
      "2700 5.725464120587276e-07\n",
      "2800 5.725149208046787e-07\n",
      "2900 5.725207188334025e-07\n",
      "3000 5.725096343667246e-07\n",
      "3100 5.725143523704901e-07\n",
      "3200 5.725181608795538e-07\n",
      "3300 5.725096343667246e-07\n",
      "3400 5.725464120587276e-07\n",
      "3500 5.725149208046787e-07\n",
      "3600 5.725207188334025e-07\n",
      "3700 5.725096343667246e-07\n",
      "3800 5.725143523704901e-07\n",
      "3900 5.725181608795538e-07\n",
      "4000 5.725096343667246e-07\n",
      "4100 5.725464120587276e-07\n",
      "4200 5.725149208046787e-07\n",
      "4300 5.725207188334025e-07\n",
      "4400 5.725096343667246e-07\n",
      "4500 5.725143523704901e-07\n",
      "4600 5.725181608795538e-07\n",
      "4700 5.725096343667246e-07\n",
      "4800 5.725464120587276e-07\n",
      "4900 5.725149208046787e-07\n",
      "5000 5.725207188334025e-07\n",
      "5100 5.725096343667246e-07\n",
      "5200 5.725143523704901e-07\n",
      "5300 5.725181608795538e-07\n",
      "5400 5.725096343667246e-07\n",
      "5500 5.725464120587276e-07\n",
      "5600 5.725149208046787e-07\n",
      "5700 5.725207188334025e-07\n",
      "5800 5.725096343667246e-07\n",
      "5900 5.725143523704901e-07\n",
      "6000 5.725181608795538e-07\n",
      "6100 5.725096343667246e-07\n",
      "6200 5.725464120587276e-07\n",
      "6300 5.725149208046787e-07\n",
      "6400 5.725207188334025e-07\n",
      "6500 5.725096343667246e-07\n",
      "6600 5.725143523704901e-07\n",
      "6700 5.725181608795538e-07\n",
      "6800 5.725096343667246e-07\n",
      "6900 5.725464120587276e-07\n",
      "7000 5.725149208046787e-07\n",
      "7100 5.725207188334025e-07\n",
      "7200 5.725096343667246e-07\n",
      "7300 5.725143523704901e-07\n",
      "7400 5.725181608795538e-07\n",
      "7500 5.725096343667246e-07\n",
      "7600 5.725464120587276e-07\n",
      "7700 5.725149208046787e-07\n",
      "7800 5.725207188334025e-07\n",
      "7900 5.725096343667246e-07\n",
      "8000 5.725143523704901e-07\n",
      "8100 5.725181608795538e-07\n",
      "8200 5.725096343667246e-07\n",
      "8300 5.725464120587276e-07\n",
      "8400 5.725149208046787e-07\n",
      "8500 5.725207188334025e-07\n",
      "8600 5.725096343667246e-07\n"
     ]
    }
   ],
   "source": [
    "model = Model()\n",
    "model.train()"
   ]
  },
  {
   "cell_type": "code",
   "execution_count": 22,
   "id": "37c0e58e",
   "metadata": {},
   "outputs": [
    {
     "name": "stdout",
     "output_type": "stream",
     "text": [
      "tensor(4.5287e-08)\n"
     ]
    },
    {
     "data": {
      "image/png": "[encoded data removed]",
      "text/plain": [
       "<Figure size 432x288 with 1 Axes>"
      ]
     },
     "metadata": {
      "needs_background": "light"
     },
     "output_type": "display_data"
    }
   ],
   "source": [
    "def result_funct(t):\n",
    "    return (5/4)*torch.exp(-t) - (1/4)*torch.exp(-t)*torch.cos(2*t)\n",
    "\n",
    "time_step = 0.01 #pourquoi /10 #0.001\n",
    "device = torch.device(\"cuda\") if torch.cuda.is_available() else torch.device(\"cpu\")\n",
    "time = torch.arange(0, 15 + time_step, time_step).reshape(1,-1).T.to(device)\n",
    "\n",
    "f_pred = model.predict()\n",
    "mod = model.model\n",
    "mod.eval()\n",
    "with torch.no_grad():\n",
    "    y_pred = mod(time)#.cpu()\n",
    "    #f_pred = \n",
    "\n",
    "y_pred = y_pred.detach().cpu()\n",
    "time = time.detach().cpu()\n",
    "mse = nn.MSELoss()\n",
    "error = mse(y_pred, result_funct(time))\n",
    "\n",
    "fig, ax = plt.subplots()\n",
    "ax.plot(time, result_funct(time), color='black',linestyle='--', linewidth=2, label='True solution')\n",
    "ax.plot(time, y_pred, color='blue', linestyle=':', linewidth=2, label='PINN estimation')\n",
    "ax.legend()\n",
    "plt.suptitle(\"Cauchy problem plotted\")\n",
    "plt.title(\"MSE of estimated solution: %f\" %error, fontsize=8)\n",
    "plt.xlabel(\"time (t)\")\n",
    "plt.ylabel(\"u(t)\")\n",
    "fig.show\n",
    "print(error)"
   ]
  },
  {
   "cell_type": "code",
   "execution_count": 23,
   "id": "096bf548",
   "metadata": {},
   "outputs": [
    {
     "data": {
      "text/plain": [
       "0.001023609"
      ]
     },
     "execution_count": 23,
     "metadata": {},
     "output_type": "execute_result"
    }
   ],
   "source": [
    "np.linalg.norm(y_pred - result_funct(torch.arange(0, 15 + 0.01, 0.01).reshape(1,-1).T),2)/np.linalg.norm(result_funct(torch.arange(0, 15 + 0.01, 0.01).reshape(1,-1).T),2) "
   ]
  },
  {
   "cell_type": "code",
   "execution_count": 24,
   "id": "65906ee2-008c-4597-8a09-ec83dc88def2",
   "metadata": {},
   "outputs": [
    {
     "data": {
      "text/plain": [
       "<bound method Figure.show of <Figure size 432x288 with 1 Axes>>"
      ]
     },
     "execution_count": 24,
     "metadata": {},
     "output_type": "execute_result"
    },
    {
     "data": {
      "image/png": "[encoded data removed]",
      "text/plain": [
       "<Figure size 432x288 with 1 Axes>"
      ]
     },
     "metadata": {
      "needs_background": "light"
     },
     "output_type": "display_data"
    }
   ],
   "source": [
    "fig, ax = plt.subplots()\n",
    "\n",
    "ax.plot(torch.arange(0, 15 + 0.01, 0.01).reshape(1,-1).T, np.zeros(len(torch.arange(0, 15 + 0.01, 0.01).reshape(1,-1).T)), color='red', linewidth=2, label='DE true')\n",
    "ax.plot(torch.arange(0, 15 + 0.01, 0.01).reshape(1,-1).T, f_pred.detach().cpu(), color='blue', linestyle=':', linewidth=2, label='DE')\n",
    "fig.show "
   ]
  },
  {
   "cell_type": "code",
   "execution_count": 25,
   "id": "ae008376",
   "metadata": {},
   "outputs": [
    {
     "data": {
      "text/plain": [
       "tensor(5.7249e-07, device='cuda:0', grad_fn=<SelectBackward0>)"
      ]
     },
     "execution_count": 25,
     "metadata": {},
     "output_type": "execute_result"
    }
   ],
   "source": [
    "torch.mean((f_pred-torch.mean(f_pred,axis=0))**2,axis=0)[0]"
   ]
  },
  {
   "cell_type": "code",
   "execution_count": null,
   "id": "79950cc2",
   "metadata": {},
   "outputs": [],
   "source": []
  }
 ],
 "metadata": {
  "kernelspec": {
   "display_name": "Python 3 (ipykernel)",
   "language": "python",
   "name": "python3"
  },
  "language_info": {
   "codemirror_mode": {
    "name": "ipython",
    "version": 3
   },
   "file_extension": ".py",
   "mimetype": "text/x-python",
   "name": "python",
   "nbconvert_exporter": "python",
   "pygments_lexer": "ipython3",
   "version": "3.9.9"
  }
 },
 "nbformat": 4,
 "nbformat_minor": 5
}
