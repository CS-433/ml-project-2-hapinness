{
 "cells": [
  {
   "cell_type": "code",
   "execution_count": 20,
   "id": "dbc04185-613d-495e-959b-70886a28eb2d",
   "metadata": {},
   "outputs": [],
   "source": [
    "import torch\n",
    "from torch import nn \n",
    "from torch.nn import functional as F\n",
    "from torch import optim\n",
    "from torch.utils.data import Dataset, DataLoader\n",
    "import time\n",
    "import math\n",
    "import seaborn as sns\n",
    "import numpy as np\n",
    "from matplotlib import pyplot as plt"
   ]
  },
  {
   "cell_type": "code",
   "execution_count": 21,
   "id": "50be3255",
   "metadata": {},
   "outputs": [],
   "source": [
    "# definining general terms\n",
    "\n",
    "# generate colocation points\n",
    "import random\n",
    "random.seed(1)\n",
    "lower_bound = 0\n",
    "upper_bound = 15\n",
    "N_col = 100\n",
    "t_col = [random.uniform(lower_bound,upper_bound) for _ in range(N_col)]\n",
    "\n",
    "# time for initial condition\n",
    "t_init = [0.0]"
   ]
  },
  {
   "cell_type": "code",
   "execution_count": 22,
   "id": "cb7c1e2f-48f9-4a6a-bbb9-a5a05057a79e",
   "metadata": {},
   "outputs": [],
   "source": [
    "class NN(nn.Module):\n",
    "    def __init__(self,):\n",
    "        super(NN, self).__init__()\n",
    "        #Linear layers\n",
    "        self.mod = nn.Sequential(\n",
    "            nn.Linear(1, 20),\n",
    "            torch.nn.Tanh(),\n",
    "            nn.Linear(20, 20),\n",
    "            torch.nn.Tanh(),\n",
    "            nn.Linear(20, 20),\n",
    "            torch.nn.Tanh(),\n",
    "            nn.Linear(20, 20),\n",
    "            torch.nn.Tanh(),\n",
    "            nn.Linear(20, 20),\n",
    "            torch.nn.Tanh(),\n",
    "            nn.Linear(20, 20),\n",
    "            torch.nn.Tanh(),\n",
    "            nn.Linear(20, 20),\n",
    "            torch.nn.Tanh(),\n",
    "            nn.Linear(20, 20),\n",
    "            torch.nn.Tanh(),\n",
    "            nn.Linear(20, 1)\n",
    "        )\n",
    "        \n",
    "    def forward(self, inpu):\n",
    "        out = self.mod(inpu)\n",
    "        return out"
   ]
  },
  {
   "cell_type": "code",
   "execution_count": 23,
   "id": "8686237b-68e1-434d-81af-3c66905c3b26",
   "metadata": {},
   "outputs": [],
   "source": [
    "class Model:\n",
    "    def __init__(self, t_col, t_init):\n",
    "        device = torch.device(\"cuda\") if torch.cuda.is_available() else torch.device(\"cpu\")\n",
    "\n",
    "        self.model = NN().to(device)\n",
    "        \n",
    "        #Max iteration\n",
    "        self.max_iter = 1000\n",
    "        \n",
    "        #Criterion for loss \n",
    "        self.criterion = nn.MSELoss()\n",
    "        \n",
    "        #Optimizer\n",
    "        self.optimizer = optim.Adam(self.model.parameters())\n",
    "        \n",
    "        '''\n",
    "        self.lbfgs = torch.optim.LBFGS(\n",
    "            self.model.parameters(), \n",
    "            lr=1.0, \n",
    "            max_iter=50000, \n",
    "            max_eval=50000, \n",
    "            history_size=50,\n",
    "            tolerance_grad=1e-5, \n",
    "            tolerance_change=1.0 * np.finfo(float).eps\n",
    "        )\n",
    "        '''\n",
    "        \n",
    "        #Initialization for training\n",
    "        # tensor of collocation point\n",
    "        t = torch.tensor(t_col)\n",
    "        \n",
    "        #Create grid for solution\n",
    "        self.grid = t.reshape(1, -1).T.to(device)  # no need to create grid for 1D problem\n",
    "        self.grid.requires_grad = True\n",
    "        \n",
    "        #Training data\n",
    "        initial = torch.tensor(t_init) # Points for boundary conditions (both are same)\n",
    "        \n",
    "        self.train_points = initial.reshape(1, -1).T.to(device) # Training points as a grid\n",
    "        self.train_points.requires_grad = True\n",
    "        \n",
    "        self.u_initial = torch.ones(len(initial)).reshape(1,-1).T.to(device)\n",
    "        self.ut_initial = -1*torch.ones(len(initial)).reshape(1,-1).T.to(device)\n",
    "\n",
    "        \"\"\"\n",
    "        self.X = self.X.to(device)\n",
    "        self.X_train = self.X_train.to(device)\n",
    "        self.y_train = self.y_train.to(device)\n",
    "        self.X.requires_grad = True\n",
    "        \"\"\"\n",
    "        self.iter = 1\n",
    "\n",
    "\n",
    "    \n",
    "    def loss(self):\n",
    "        # self.lbfgs.zero_grad()\n",
    "        self.optimizer.zero_grad()\n",
    "        \n",
    "        y = self.model(self.train_points) \n",
    "        dy_dt = torch.autograd.grad(inputs=self.train_points, outputs=y, grad_outputs=torch.ones_like(y), retain_graph=True, create_graph=True)[0]\n",
    "        \n",
    "        loss = self.criterion(y, self.u_initial) #Compute first part of loss\n",
    "        loss += self.criterion(dy_dt, self.ut_initial) #Compute second part of loss\n",
    "        \n",
    "        u = self.model(self.grid)\n",
    "        #Compute gradients of grid with respect to t\n",
    "        du_dt = torch.autograd.grad(inputs=self.grid, outputs=u, grad_outputs=torch.ones_like(u), retain_graph=True, create_graph=True)[0]\n",
    "        du_dt2 = torch.autograd.grad(inputs=self.grid, outputs=du_dt, grad_outputs=torch.ones_like(du_dt), retain_graph=True, create_graph=True)[0]\n",
    "\n",
    "        loss += self.criterion(du_dt2 + 2*du_dt + u, torch.exp(-self.grid)*torch.cos(2*self.grid)) #third part of loss, using f(t,x) as in paper\n",
    "        \n",
    "        loss.backward()\n",
    "        #Print loss every 100 iteration\n",
    "        if self.iter % 100 == 0: \n",
    "            print(self.iter, loss.item())\n",
    "        self.iter = self.iter + 1\n",
    "        return loss\n",
    "\n",
    "    def train(self):\n",
    "        for i in range(self.max_iter):\n",
    "            self.optimizer.step(self.loss)\n",
    "            #self.lbfgs.step(self.loss)\n"
   ]
  },
  {
   "cell_type": "code",
   "execution_count": 24,
   "id": "b09dd9e2-79fb-4883-ad37-4b2d71e32ba4",
   "metadata": {
    "scrolled": true
   },
   "outputs": [
    {
     "name": "stdout",
     "output_type": "stream",
     "text": [
      "100 0.015249950811266899\n",
      "200 0.0010712426155805588\n",
      "300 0.0006408078479580581\n",
      "400 0.0005391166196204722\n",
      "500 0.00045156621490605175\n",
      "600 0.00037293037166818976\n",
      "700 0.0003035601112060249\n",
      "800 0.00024389525060541928\n",
      "900 0.0001945408876053989\n",
      "1000 0.0001559904485475272\n"
     ]
    }
   ],
   "source": [
    "model = Model(t_col, t_init)\n",
    "model.train()"
   ]
  },
  {
   "cell_type": "code",
   "execution_count": 19,
   "id": "fb45363d",
   "metadata": {},
   "outputs": [
    {
     "name": "stdout",
     "output_type": "stream",
     "text": [
      "tensor(0.0330)\n"
     ]
    },
    {
     "data": {
      "image/png": "[encoded data removed]",
      "text/plain": [
       "<Figure size 640x480 with 1 Axes>"
      ]
     },
     "metadata": {},
     "output_type": "display_data"
    }
   ],
   "source": [
    "def result_funct(t):\n",
    "    return (1/4)*torch.exp(-t) + (5/4)*torch.exp(-t)*torch.cos(1*t)\n",
    "\n",
    "time_step = 0.001\n",
    "device = torch.device(\"cuda\") if torch.cuda.is_available() else torch.device(\"cpu\")\n",
    "time = torch.arange(0, 5 + time_step, time_step).reshape(1,-1).T.to(device)\n",
    "\n",
    "\n",
    "mod = model.model\n",
    "mod.eval()\n",
    "with torch.no_grad():\n",
    "    y_pred = mod(time).cpu()\n",
    "\n",
    "mse = nn.MSELoss()\n",
    "error = mse(y_pred, result_funct(time))\n",
    "\n",
    "fig, ax = plt.subplots()\n",
    "ax.plot(time, result_funct(time), color='black',linestyle='--', linewidth=2, label='True solution')\n",
    "ax.plot(time, y_pred, color='blue', linestyle=':', linewidth=2, label='PINN estimation')\n",
    "ax.legend()\n",
    "plt.suptitle(\"Cauchy problem plotted\")\n",
    "plt.title(\"MSE of estimated solution: %f\" %error, fontsize=8)\n",
    "plt.xlabel(\"time (t)\")\n",
    "plt.ylabel(\"u(t)\")\n",
    "fig.show\n",
    "print(error)"
   ]
  },
  {
   "cell_type": "code",
   "execution_count": null,
   "id": "65906ee2-008c-4597-8a09-ec83dc88def2",
   "metadata": {},
   "outputs": [],
   "source": []
  }
 ],
 "metadata": {
  "kernelspec": {
   "display_name": "Python 3 (ipykernel)",
   "language": "python",
   "name": "python3"
  },
  "language_info": {
   "codemirror_mode": {
    "name": "ipython",
    "version": 3
   },
   "file_extension": ".py",
   "mimetype": "text/x-python",
   "name": "python",
   "nbconvert_exporter": "python",
   "pygments_lexer": "ipython3",
   "version": "3.9.12"
  }
 },
 "nbformat": 4,
 "nbformat_minor": 5
}
