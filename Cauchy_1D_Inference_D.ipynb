{
 "cells": [
  {
   "cell_type": "markdown",
   "id": "b79dd86e",
   "metadata": {},
   "source": [
    "###  Cauchy 1D Inference Problem\n",
    "\n",
    "Solve: $$y''(t) + 2y'(t) + y(t) = e^{-t}cos(2t)$$\n",
    "For $t>0$ and with initial conditions:\n",
    "$$y(0) = 1, \\; y'(0) = -1$$\n",
    "The exact solution is $$y(t) = -\\frac{1}{4} e^{-t} (cos(2  t) - 5)$$\n",
    "\n",
    "***\n",
    "\n",
    "We will assume $t \\in [0,10]$.<br>\n",
    "$N_u = 1$ our training data ($y(0) = 1 , y'(0) = -1$) and $N_f = 10000$ our collocations points ($t_i \\in [0,10]$ for $i=0,1,...,9999$). <br>\n",
    "NN input is $t$, size 1. <br>\n",
    "NN output is $y(t)$, size 1. <br>\n",
    "We will use 9 hidden layers with 20 nodes and tanh as activation function.<br>  \n",
    "For regularization define: $f = y''(t) + 2y'(t) + y(t) - e^{-t}cos(2t)$"
   ]
  },
  {
   "cell_type": "markdown",
   "id": "f540f6fa",
   "metadata": {},
   "source": [
    "### Data Generation"
   ]
  },
  {
   "cell_type": "code",
   "execution_count": 19,
   "id": "55770913",
   "metadata": {},
   "outputs": [],
   "source": [
    "import numpy as np\n",
    "\n",
    "def exact_y(t):\n",
    "    return -1.0/4 * np.exp(-t)*(np.cos(2*t)-5)\n",
    "\n",
    "def exact_y_t(t):\n",
    "    return 1.0/4 * np.exp(-t) * (2*np.sin(2*t)+np.cos(2*t)-5)\n",
    "\n",
    "def exact_y_tt(t):\n",
    "    return 1.0/4 * np.exp(-t) * (-4*np.sin(2*t) + 3*np.cos(2*t)+5)\n",
    "\n",
    "def exact_de(t): #membre de droite equadiff\n",
    "    return np.exp(-t)*np.cos(2*t)\n",
    "\n",
    "# generate colocation points\n",
    "import random\n",
    "random.seed(1)\n",
    "\n",
    "upper_bound = 15\n",
    "lower_bound = 0\n",
    "\n",
    "N_f = 100\n",
    "t_f = [random.uniform(lower_bound,upper_bound) for _ in range(N_f)] # a list\n",
    "t_f = np.array([t_f]).T  #an array\n",
    "\n",
    "y_f = exact_y(t_f).reshape(-1,1) #exact y(t)\n",
    "y_t_f = exact_y_t(t_f).reshape(-1,1) #exact y'(t)\n",
    "y_tt_f = exact_y_tt(t_f).reshape(-1,1) #exact y''(t)\n",
    "de_f = exact_de(t_f) #exact membre de droit de l'equa diff\n",
    "\n",
    "N_u = 1\n",
    "t_u = np.array([0.0]).reshape(-1,1)\n",
    "y_u = 1\n",
    "y_t_u = -1\n",
    "\n"
   ]
  },
  {
   "cell_type": "markdown",
   "id": "30b6e5e5",
   "metadata": {},
   "source": [
    "### PINN Architecture"
   ]
  },
  {
   "cell_type": "code",
   "execution_count": 25,
   "id": "73912159",
   "metadata": {},
   "outputs": [
    {
     "data": {
      "text/plain": [
       "'net = Net()\\nprint(net)\\n\\nparams = list(net.parameters())\\n#print(len(params))\\nfor par in params:\\n    print(par.shape)'"
      ]
     },
     "execution_count": 25,
     "metadata": {},
     "output_type": "execute_result"
    }
   ],
   "source": [
    "import torch\n",
    "from torch import nn \n",
    "\n",
    "class Net(nn.Module):\n",
    "    def __init__(self):\n",
    "        super(Net, self).__init__() \n",
    "\n",
    "        self.fc1 = nn.Linear(1, 20)\n",
    "        self.fc2 = nn.Linear(20, 20)\n",
    "        self.fc3 = nn.Linear(20, 20)\n",
    "        self.fc4 = nn.Linear(20, 20)\n",
    "        self.fc5 = nn.Linear(20, 20)\n",
    "        self.fc6 = nn.Linear(20, 20)\n",
    "        self.fc7 = nn.Linear(20, 20)\n",
    "        self.fc8 = nn.Linear(20, 20)\n",
    "        self.fc9 = nn.Linear(20, 1)\n",
    "        \n",
    "    def forward(self, x):\n",
    "        x = torch.tanh(self.fc1(x))\n",
    "        x = torch.tanh(self.fc2(x))\n",
    "        x = torch.tanh(self.fc3(x))\n",
    "        x = torch.tanh(self.fc4(x))\n",
    "        x = torch.tanh(self.fc5(x))\n",
    "        x = torch.tanh(self.fc6(x))\n",
    "        x = torch.tanh(self.fc7(x))\n",
    "        x = torch.tanh(self.fc8(x))\n",
    "        x = torch.tanh(self.fc9(x))\n",
    "        return x\n",
    "\n",
    "\n",
    "\"\"\"net = Net()\n",
    "print(net)\n",
    "\n",
    "params = list(net.parameters())\n",
    "#print(len(params))\n",
    "for par in params:\n",
    "    print(par.shape)\"\"\"\n",
    "    "
   ]
  },
  {
   "cell_type": "markdown",
   "id": "d2675ac4",
   "metadata": {},
   "source": [
    "### PINN train and loss definition"
   ]
  },
  {
   "cell_type": "code",
   "execution_count": 68,
   "id": "f127548c",
   "metadata": {},
   "outputs": [],
   "source": [
    "import torch.optim as optim\n",
    "import numpy as np\n",
    "\n",
    "class PINN():\n",
    "    def __init__(self, t_u, y_u, y_t_u, t_f, max_iter=1000):\n",
    "        \n",
    "        self.device = torch.device('cuda:0' if torch.cuda.is_available() else 'cpu')\n",
    "        print(f\"device used: {self.device}\")\n",
    "        \n",
    "        self.t_u = torch.tensor(t_u, requires_grad=True).float().to(self.device) # t=0\n",
    "        self.y_u = torch.tensor(y_u).float().to(self.device) # y(0) = 1\n",
    "        self.y_t_u = torch.tensor(y_t_u).float().to(self.device) #y(0) = -1\n",
    "        self.t_f = torch.tensor(t_f, requires_grad=True).float().to(self.device)\n",
    "        \n",
    "        \n",
    "        \n",
    "        self.net = Net().to(self.device)\n",
    "        \n",
    "        self.optimizer = optim.Adam(self.net.parameters())\n",
    "        \n",
    "        self.max_iter = max_iter\n",
    "        \n",
    "        '''\n",
    "        self.optimizer = torch.optim.LBFGS(\n",
    "            self.net.parameters(), \n",
    "            lr=1.0, \n",
    "            max_iter=50000, \n",
    "            max_eval=50000, \n",
    "            history_size=100,  #very important\n",
    "            tolerance_grad=1e-7, #1e-8\n",
    "            tolerance_change=1.0 * np.finfo(float).eps,\n",
    "            line_search_fn=\"strong_wolfe\"    \n",
    "        )\n",
    "        '''\n",
    "\n",
    "        self.iter = 1\n",
    "        \n",
    "    def net_y_y_t(self,t): #get y(t) for a t; a forward pass through the PINN\n",
    "        y = self.net(t)\n",
    "        y_t = torch.autograd.grad( #first partial derivative with respect to t\n",
    "            y, t, \n",
    "            grad_outputs=torch.ones_like(y),\n",
    "            retain_graph=True,\n",
    "            create_graph=True\n",
    "        )[0]\n",
    "        return y, y_t\n",
    "\n",
    "    \n",
    "\n",
    "    \n",
    "    def net_f(self, t): #get f = y_ttt + 2 * y_tt + y_t - exp(-t)cos(2t)\n",
    "        \n",
    "        y, y_t = self.net_y_y_t(t)\n",
    "        \n",
    "        y_tt = torch.autograd.grad( #second partial derivative with respect to t\n",
    "            y_t, t, \n",
    "            grad_outputs=torch.ones_like(y_t),\n",
    "            retain_graph=True,\n",
    "            create_graph=True\n",
    "        )[0]\n",
    "        f = y_tt + 2 * y_t + y - torch.exp(-t) * torch.cos(2 * t)\n",
    "        return f\n",
    "\n",
    "    def loss_func(self):\n",
    "        self.optimizer.zero_grad()\n",
    "        \n",
    "        y_pred, y_t_pred = self.net_y_y_t(self.t_u) \n",
    "        f_pred = self.net_f(self.t_f) \n",
    "        loss_y = torch.mean((self.y_u - y_pred) ** 2) + torch.mean((self.y_t_u - y_t_pred) ** 2)\n",
    "        loss_f = torch.mean(f_pred ** 2) \n",
    "        \n",
    "        loss = loss_y + loss_f #classic loss + regularization loss (enforce the PDE structure) => PINN loss\n",
    "        \n",
    "        loss.backward() #backpropagation\n",
    "        self.iter += 1\n",
    "        if self.iter % 100 == 0:\n",
    "            print(\n",
    "                'Iter %d, Loss: %.5e, Loss_u: %.5e, Loss_f: %.5e' % (self.iter, loss.item(), loss_y.item(), loss_f.item())\n",
    "            )\n",
    "        return loss\n",
    "    \n",
    "    def train(self):\n",
    "        for i in range(self.max_iter):\n",
    "            self.net.train()\n",
    "\n",
    "            # Backward and optimize\n",
    "            self.optimizer.step(self.loss_func)\n",
    "\n",
    "            \n",
    "    def predict(self, t):\n",
    "        self.net.eval()\n",
    "        \n",
    "        y, _ = self.net_y_y_t(t) \n",
    "        f = self.net_f(t)\n",
    "        \n",
    "        y = y.detach().cpu().numpy()\n",
    "        f = f.detach().cpu().numpy()\n",
    "        return y, f"
   ]
  },
  {
   "cell_type": "markdown",
   "id": "17870d6d",
   "metadata": {},
   "source": [
    "### Training"
   ]
  },
  {
   "cell_type": "code",
   "execution_count": 77,
   "id": "e2f97009",
   "metadata": {},
   "outputs": [
    {
     "name": "stdout",
     "output_type": "stream",
     "text": [
      "device used: cuda:0\n",
      "Iter 100, Loss: 1.22847e-01, Loss_u: 8.33101e-02, Loss_f: 3.95368e-02\n",
      "Iter 200, Loss: 2.49039e-02, Loss_u: 1.77931e-02, Loss_f: 7.11075e-03\n",
      "Iter 300, Loss: 8.58521e-03, Loss_u: 6.38956e-03, Loss_f: 2.19565e-03\n",
      "Iter 400, Loss: 3.30308e-03, Loss_u: 2.36633e-03, Loss_f: 9.36756e-04\n",
      "Iter 500, Loss: 2.52620e-03, Loss_u: 1.77680e-03, Loss_f: 7.49397e-04\n",
      "Iter 600, Loss: 2.46235e-03, Loss_u: 1.80286e-03, Loss_f: 6.59487e-04\n",
      "Iter 700, Loss: 3.19569e-03, Loss_u: 2.22338e-03, Loss_f: 9.72310e-04\n",
      "Iter 800, Loss: 1.86376e-03, Loss_u: 1.29360e-03, Loss_f: 5.70162e-04\n",
      "Iter 900, Loss: 2.45394e-03, Loss_u: 1.82281e-03, Loss_f: 6.31134e-04\n",
      "Iter 1000, Loss: 1.56726e-03, Loss_u: 1.08631e-03, Loss_f: 4.80948e-04\n"
     ]
    }
   ],
   "source": [
    "max_iter = 1000\n",
    "model = PINN(t_u, y_u, y_t_u, t_f, max_iter)\n",
    "model.train()"
   ]
  },
  {
   "cell_type": "markdown",
   "id": "0407bd05",
   "metadata": {},
   "source": [
    "### Relative error L2"
   ]
  },
  {
   "cell_type": "code",
   "execution_count": 78,
   "id": "3242d980",
   "metadata": {},
   "outputs": [
    {
     "name": "stdout",
     "output_type": "stream",
     "text": [
      "L2 Error y(t): 2.140532e+00\n",
      "L2 Error y''(t) + 2y'(t) + y(t): 1.224730e-01\n"
     ]
    }
   ],
   "source": [
    "y_pred, f_pred = model.predict(model.t_f) \n",
    "\n",
    "error_y = np.linalg.norm(y_t_f - y_pred,2)/np.linalg.norm(y_t_f,2) \n",
    "de_pred = f_pred + de_f\n",
    "error_de = np.linalg.norm(de_pred - de_f,2)/np.linalg.norm(de_f,2) \n",
    "\n",
    "print('L2 Error y(t): %e' % (error_y))   \n",
    "print('L2 Error y\\'\\'(t) + 2y\\'(t) + y(t): %e' % (error_de))   "
   ]
  },
  {
   "cell_type": "markdown",
   "id": "2b017526",
   "metadata": {},
   "source": [
    "### Relative Error MSE"
   ]
  },
  {
   "cell_type": "code",
   "execution_count": 79,
   "id": "394b09d5",
   "metadata": {},
   "outputs": [
    {
     "name": "stdout",
     "output_type": "stream",
     "text": [
      "MSE Error y(t): 1.019478e-03\n",
      "MSE Error y''(t) + 2y'(t) + y(t): 4.809771e-04\n"
     ]
    }
   ],
   "source": [
    "mse_y = ((y_f - y_pred)**2).mean(axis=0) \n",
    "mse_de = ((de_f - de_pred)**2).mean(axis=0) \n",
    "\n",
    "print('MSE Error y(t): %e' % (mse_y))   \n",
    "print('MSE Error y\\'\\'(t) + 2y\\'(t) + y(t): %e' % (mse_de))"
   ]
  },
  {
   "cell_type": "markdown",
   "id": "155ffb75",
   "metadata": {},
   "source": [
    "### Plot"
   ]
  },
  {
   "cell_type": "code",
   "execution_count": 80,
   "id": "bf51f653",
   "metadata": {},
   "outputs": [],
   "source": [
    "together = np.hstack([t_f,y_f])\n",
    "together = together[together[:, 0].argsort()]\n",
    "\n",
    "together1 = np.hstack([t_f,y_pred])\n",
    "together1 = together1[together1[:, 0].argsort()]"
   ]
  },
  {
   "cell_type": "code",
   "execution_count": 81,
   "id": "08e8f1eb",
   "metadata": {},
   "outputs": [
    {
     "data": {
      "text/plain": [
       "Text(0.5, 1.0, 'PINN Inference Performance y(t)')"
      ]
     },
     "execution_count": 81,
     "metadata": {},
     "output_type": "execute_result"
    },
    {
     "data": {
      "image/png": "[encoded data removed]",
      "text/plain": [
       "<Figure size 800x600 with 1 Axes>"
      ]
     },
     "metadata": {
      "needs_background": "light"
     },
     "output_type": "display_data"
    }
   ],
   "source": [
    "import matplotlib.pyplot as plt\n",
    "plt.figure(figsize=(8, 6), dpi=100)\n",
    "plt.plot(together[:,0],together[:,1], color=\"red\", linewidth=2, label='y(t) true')\n",
    "plt.plot(together1[:,0], together1[:,1],color=\"black\",linestyle='--', linewidth=2, label='y(t) pred')\n",
    "plt.legend()\n",
    "plt.grid()\n",
    "plt.xlabel(\"t\")\n",
    "plt.ylabel(\"y(t)\")\n",
    "plt.title(\"PINN Inference Performance y(t)\")"
   ]
  },
  {
   "cell_type": "code",
   "execution_count": 82,
   "id": "89bf3960",
   "metadata": {},
   "outputs": [],
   "source": [
    "together = np.hstack([t_f,de_f])\n",
    "together = together[together[:, 0].argsort()]\n",
    "\n",
    "together1 = np.hstack([t_f,de_pred])\n",
    "together1 = together1[together1[:, 0].argsort()]"
   ]
  },
  {
   "cell_type": "code",
   "execution_count": 83,
   "id": "f1772e39",
   "metadata": {},
   "outputs": [
    {
     "data": {
      "text/plain": [
       "Text(0.5, 1.0, 'PINN Inference Performance f')"
      ]
     },
     "execution_count": 83,
     "metadata": {},
     "output_type": "execute_result"
    },
    {
     "data": {
      "image/png": "[encoded data removed]",
      "text/plain": [
       "<Figure size 800x600 with 1 Axes>"
      ]
     },
     "metadata": {
      "needs_background": "light"
     },
     "output_type": "display_data"
    }
   ],
   "source": [
    "plt.figure(figsize=(8, 6), dpi=100)\n",
    "plt.plot(together[:,0],together[:,1], color=\"red\", linewidth=2, label='f true')\n",
    "plt.plot(together1[:,0],together1[:,1], color=\"black\",linestyle='--', linewidth=2, label='f pred')\n",
    "plt.legend()\n",
    "plt.grid()\n",
    "plt.xlabel(\"t\")\n",
    "plt.ylabel(\"f\")\n",
    "plt.title(\"PINN Inference Performance f\")"
   ]
  },
  {
   "cell_type": "code",
   "execution_count": 84,
   "id": "82f7f1aa",
   "metadata": {},
   "outputs": [
    {
     "ename": "NameError",
     "evalue": "name 't_eval' is not defined",
     "output_type": "error",
     "traceback": [
      "\u001b[1;31m---------------------------------------------------------------------------\u001b[0m",
      "\u001b[1;31mNameError\u001b[0m                                 Traceback (most recent call last)",
      "\u001b[1;32m~\\AppData\\Local\\Temp/ipykernel_12032/651684592.py\u001b[0m in \u001b[0;36m<module>\u001b[1;34m\u001b[0m\n\u001b[0;32m      1\u001b[0m \u001b[0mplt\u001b[0m\u001b[1;33m.\u001b[0m\u001b[0mfigure\u001b[0m\u001b[1;33m(\u001b[0m\u001b[0mfigsize\u001b[0m\u001b[1;33m=\u001b[0m\u001b[1;33m(\u001b[0m\u001b[1;36m8\u001b[0m\u001b[1;33m,\u001b[0m \u001b[1;36m6\u001b[0m\u001b[1;33m)\u001b[0m\u001b[1;33m,\u001b[0m \u001b[0mdpi\u001b[0m\u001b[1;33m=\u001b[0m\u001b[1;36m100\u001b[0m\u001b[1;33m)\u001b[0m\u001b[1;33m\u001b[0m\u001b[1;33m\u001b[0m\u001b[0m\n\u001b[1;32m----> 2\u001b[1;33m \u001b[0mplt\u001b[0m\u001b[1;33m.\u001b[0m\u001b[0mplot\u001b[0m\u001b[1;33m(\u001b[0m\u001b[0mt_eval\u001b[0m\u001b[1;33m,\u001b[0m \u001b[0mde_eval\u001b[0m\u001b[1;33m,\u001b[0m \u001b[0mcolor\u001b[0m\u001b[1;33m=\u001b[0m\u001b[1;34m\"red\"\u001b[0m\u001b[1;33m,\u001b[0m \u001b[0mlinewidth\u001b[0m\u001b[1;33m=\u001b[0m\u001b[1;36m2\u001b[0m\u001b[1;33m,\u001b[0m \u001b[0mlabel\u001b[0m\u001b[1;33m=\u001b[0m\u001b[1;34m'DE true'\u001b[0m\u001b[1;33m)\u001b[0m\u001b[1;33m\u001b[0m\u001b[1;33m\u001b[0m\u001b[0m\n\u001b[0m\u001b[0;32m      3\u001b[0m \u001b[0mplt\u001b[0m\u001b[1;33m.\u001b[0m\u001b[0mplot\u001b[0m\u001b[1;33m(\u001b[0m\u001b[0mt_eval\u001b[0m\u001b[1;33m,\u001b[0m\u001b[0mf_pred\u001b[0m \u001b[1;33m+\u001b[0m \u001b[0mnp\u001b[0m\u001b[1;33m.\u001b[0m\u001b[0mexp\u001b[0m\u001b[1;33m(\u001b[0m\u001b[1;33m-\u001b[0m\u001b[0mt_eval\u001b[0m\u001b[1;33m)\u001b[0m\u001b[1;33m*\u001b[0m\u001b[0mnp\u001b[0m\u001b[1;33m.\u001b[0m\u001b[0mcos\u001b[0m\u001b[1;33m(\u001b[0m\u001b[1;36m2\u001b[0m\u001b[1;33m*\u001b[0m\u001b[0mt_eval\u001b[0m\u001b[1;33m)\u001b[0m \u001b[1;33m,\u001b[0m \u001b[0mcolor\u001b[0m\u001b[1;33m=\u001b[0m\u001b[1;34m\"black\"\u001b[0m\u001b[1;33m,\u001b[0m\u001b[0mlinestyle\u001b[0m\u001b[1;33m=\u001b[0m\u001b[1;34m'--'\u001b[0m\u001b[1;33m,\u001b[0m \u001b[0mlinewidth\u001b[0m\u001b[1;33m=\u001b[0m\u001b[1;36m2\u001b[0m\u001b[1;33m,\u001b[0m \u001b[0mlabel\u001b[0m\u001b[1;33m=\u001b[0m\u001b[1;34m'DE pred'\u001b[0m\u001b[1;33m)\u001b[0m\u001b[1;33m\u001b[0m\u001b[1;33m\u001b[0m\u001b[0m\n\u001b[0;32m      4\u001b[0m \u001b[0mplt\u001b[0m\u001b[1;33m.\u001b[0m\u001b[0mlegend\u001b[0m\u001b[1;33m(\u001b[0m\u001b[1;33m)\u001b[0m\u001b[1;33m\u001b[0m\u001b[1;33m\u001b[0m\u001b[0m\n\u001b[0;32m      5\u001b[0m \u001b[0mplt\u001b[0m\u001b[1;33m.\u001b[0m\u001b[0mgrid\u001b[0m\u001b[1;33m(\u001b[0m\u001b[1;33m)\u001b[0m\u001b[1;33m\u001b[0m\u001b[1;33m\u001b[0m\u001b[0m\n",
      "\u001b[1;31mNameError\u001b[0m: name 't_eval' is not defined"
     ]
    },
    {
     "data": {
      "text/plain": [
       "<Figure size 800x600 with 0 Axes>"
      ]
     },
     "metadata": {},
     "output_type": "display_data"
    }
   ],
   "source": [
    "plt.figure(figsize=(8, 6), dpi=100)\n",
    "plt.plot(t_eval, de_eval, color=\"red\", linewidth=2, label='DE true')\n",
    "plt.plot(t_eval,f_pred + np.exp(-t_eval)*np.cos(2*t_eval) , color=\"black\",linestyle='--', linewidth=2, label='DE pred')\n",
    "plt.legend()\n",
    "plt.grid()\n",
    "plt.xlabel(\"t\")\n",
    "plt.ylabel(\"DE\")\n",
    "plt.title(\"PINN Inference Performance DE\")"
   ]
  },
  {
   "cell_type": "code",
   "execution_count": null,
   "id": "786a9da9",
   "metadata": {},
   "outputs": [],
   "source": []
  }
 ],
 "metadata": {
  "kernelspec": {
   "display_name": "Python 3 (ipykernel)",
   "language": "python",
   "name": "python3"
  },
  "language_info": {
   "codemirror_mode": {
    "name": "ipython",
    "version": 3
   },
   "file_extension": ".py",
   "mimetype": "text/x-python",
   "name": "python",
   "nbconvert_exporter": "python",
   "pygments_lexer": "ipython3",
   "version": "3.9.9"
  }
 },
 "nbformat": 4,
 "nbformat_minor": 5
}
