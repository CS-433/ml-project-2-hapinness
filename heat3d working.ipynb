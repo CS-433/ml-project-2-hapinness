{
 "cells": [
  {
   "cell_type": "markdown",
   "id": "56647bd1",
   "metadata": {
    "id": "56647bd1"
   },
   "source": [
    "### Heat equation\n",
    "Physics form:\n",
    "$$\\frac{\\partial u(t,x)}{\\partial t} + u(t,x) \\frac{\\partial u(t,x)}{\\partial x} = \\nu \\frac{\\partial^2 u(t,x)}{\\partial x^2}$$\n",
    "$u(t,x)$: velocity of fluid, $\\nu$: viscosity of fluid <br><br>\n",
    "\n",
    "General form:\n",
    "$$\\frac{\\partial u(t,x)}{\\partial t} + \\lambda _{1} u(t,x) \\frac{\\partial u(t,x)}{\\partial x} -\\lambda _{2} \\frac{\\partial^2 u(t,x)}{\\partial x^2} = 0$$<br>\n",
    "\n",
    "In Maziar Raissi, Paris Perdikaris, and George Em Karniadakis paper: <br>\n",
    "$$\\frac{\\partial u(t,x)}{\\partial t} + u(t,x) \\frac{\\partial u(t,x)}{\\partial x} -\\frac{0.01}{\\pi} \\frac{\\partial^2 u(t,x)}{\\partial x^2} = 0$$ <br>\n",
    "$$u(0,x) = -sin(\\pi x) \\textrm{, which is the initial condition}$$ <br>\n",
    "$$u(t,-1) = u(t,1) = 0 \\textrm{, which is the Dirichlet boundary conditions}$$<br>\n",
    "$$x \\in [-1,1], \\textrm{ }t\\in [0,1]$$\n",
    "Close to the exact solution is $u(t,x) = e^{-t}sin(\\pi x)$, [here is the exact analytical solution.](https://www.sciencedirect.com/science/article/abs/pii/0045793086900368)\n",
    "\n",
    "### lol no that's the wrong equation :)"
   ]
  },
  {
   "cell_type": "code",
   "execution_count": 1,
   "id": "076a0559",
   "metadata": {
    "executionInfo": {
     "elapsed": 415,
     "status": "ok",
     "timestamp": 1671120655956,
     "user": {
      "displayName": "Justin Manson",
      "userId": "07466281473432605352"
     },
     "user_tz": -60
    },
    "id": "076a0559"
   },
   "outputs": [],
   "source": [
    "import math\n",
    "import numpy as np\n",
    "import matplotlib.pyplot as plt\n",
    "np.random.seed(0)"
   ]
  },
  {
   "cell_type": "markdown",
   "id": "60b18d65",
   "metadata": {
    "id": "60b18d65"
   },
   "source": [
    "### DNN"
   ]
  },
  {
   "cell_type": "code",
   "execution_count": 2,
   "id": "11d5ac7c",
   "metadata": {
    "executionInfo": {
     "elapsed": 4,
     "status": "ok",
     "timestamp": 1671120656512,
     "user": {
      "displayName": "Justin Manson",
      "userId": "07466281473432605352"
     },
     "user_tz": -60
    },
    "id": "11d5ac7c"
   },
   "outputs": [],
   "source": [
    "import torch\n",
    "from torch import nn \n",
    "from collections import OrderedDict\n",
    "torch.manual_seed(0)\n",
    "\n",
    "class DNN(torch.nn.Module):\n",
    "    def __init__(self, layers):\n",
    "        super(DNN, self).__init__()\n",
    "        \n",
    "        self.activation = torch.nn.Tanh\n",
    "        \n",
    "        layer_list = list()\n",
    "        for i in range(len(layers) - 2): \n",
    "            layer_list.append(\n",
    "                ('layer_%d' % i, torch.nn.Linear(layers[i], layers[i+1]))\n",
    "            )\n",
    "            layer_list.append(('activation_%d' % i, self.activation()))\n",
    "            \n",
    "        layer_list.append(\n",
    "            ('layer_%d' % (len(layers) - 2), torch.nn.Linear(layers[-2], layers[-1]))\n",
    "        )\n",
    "        layerDict = OrderedDict(layer_list)\n",
    "\n",
    "        self.layers = torch.nn.Sequential(layerDict)\n",
    "        \n",
    "    def forward(self, x):\n",
    "        out = self.layers(x)\n",
    "        return out\n",
    "    "
   ]
  },
  {
   "cell_type": "markdown",
   "id": "1309021a",
   "metadata": {
    "id": "1309021a"
   },
   "source": [
    "### PINN"
   ]
  },
  {
   "cell_type": "code",
   "execution_count": 3,
   "id": "e8911f35",
   "metadata": {
    "executionInfo": {
     "elapsed": 6,
     "status": "ok",
     "timestamp": 1671120656973,
     "user": {
      "displayName": "Justin Manson",
      "userId": "07466281473432605352"
     },
     "user_tz": -60
    },
    "id": "e8911f35"
   },
   "outputs": [],
   "source": [
    "import torch.optim as optim\n",
    "\n",
    "class PINN():\n",
    "    def __init__(self, layers, x, t, a, tol=1e-5, hs=50, verbose=True): \n",
    "        \n",
    "        self.device = torch.device('cuda:0' if torch.cuda.is_available() else 'cpu')\n",
    "        self.verbose = verbose\n",
    "        if self.verbose:\n",
    "            print(f\"device used: {self.device}\")\n",
    "            print(f\"x shape: {x.shape}\")\n",
    "            print(f\"t shape: {t.shape}\")\n",
    "            print(f\"a shape: {a.shape}\")\n",
    "        \n",
    "        self.net = DNN(layers).to(self.device)\n",
    "        for m in self.net.modules():\n",
    "            if isinstance(m, nn.Linear):\n",
    "                torch.nn.init.xavier_uniform_(m.weight)\n",
    "        \n",
    "        # generate collocation points (first N_col points from the randomly sampled vectors)\n",
    "        N_col = 10\n",
    "        xcol = x[:N_col,:,:]\n",
    "        tcol = t[:,:N_col,:]\n",
    "        acol = a[:,:,:N_col]\n",
    "        x_inter, t_inter, a_inter = np.meshgrid(xcol, tcol, acol)\n",
    "        grid_col = np.hstack((x_inter.flatten()[:,None], t_inter.flatten()[:,None], a_inter.flatten()[:,None])) \n",
    "        \n",
    "        self.col_x_tensor = torch.tensor(np.array([grid_col[:,0]]), requires_grad=True).T.float().to(self.device)\n",
    "        self.col_t_tensor = torch.tensor(np.array([grid_col[:,1]]), requires_grad=True).T.float().to(self.device)\n",
    "        self.col_a_tensor = torch.tensor(np.array([grid_col[:,2]]), requires_grad=True).T.float().to(self.device)\n",
    "\n",
    "        \n",
    "        # generate support points (last N_sup points from the randomly sampled vectors)\n",
    "        N_sup = 10    # number of support points\n",
    "        xsup = x[-N_sup:,:,:]\n",
    "        tsup = t[:,-N_sup:,:]\n",
    "        asup = a[:,:,-N_sup:]\n",
    "        x_inter, t_inter, a_inter = np.meshgrid(xsup, tsup, asup)\n",
    "        grid_sup = np.hstack((x_inter.flatten()[:,None], t_inter.flatten()[:,None], a_inter.flatten()[:,None])) \n",
    "        \n",
    "        self.sup_x_tensor = torch.tensor(np.array([grid_sup[:,0]]), requires_grad=True).T.float().to(self.device)\n",
    "        self.sup_t_tensor = torch.tensor(np.array([grid_sup[:,1]]), requires_grad=True).T.float().to(self.device)\n",
    "        self.sup_a_tensor = torch.tensor(np.array([grid_sup[:,2]]), requires_grad=True).T.float().to(self.device)\n",
    "        \n",
    "        \n",
    "        \n",
    "        # generate grids for boundary conditions:\n",
    "\n",
    "        # 1. x=0 and x=pi boundary points\n",
    "        # initial condition points(x=0)\n",
    "        x_inter, t_inter, a_inter = np.meshgrid(0, t, a)\n",
    "        x0_grid = np.hstack((x_inter.flatten()[:,None], t_inter.flatten()[:,None], a_inter.flatten()[:,None])) \n",
    "        \n",
    "        self.x0_x_tensor = torch.tensor(np.array([x0_grid[:,0]]), requires_grad=True).T.float().to(self.device)\n",
    "        self.x0_t_tensor = torch.tensor(np.array([x0_grid[:,1]]), requires_grad=True).T.float().to(self.device)\n",
    "        self.x0_a_tensor = torch.tensor(np.array([x0_grid[:,2]]), requires_grad=True).T.float().to(self.device)\n",
    "\n",
    "        \n",
    "        # final condition points (x=pi)\n",
    "        x_inter, t_inter, a_inter = np.meshgrid(math.pi, t, a)\n",
    "        xpi_grid = np.hstack((x_inter.flatten()[:,None], t_inter.flatten()[:,None], a_inter.flatten()[:,None])) \n",
    "        \n",
    "        self.xpi_x_tensor = torch.tensor(np.array([xpi_grid[:,0]]), requires_grad=True).T.float().to(self.device)\n",
    "        self.xpi_t_tensor = torch.tensor(np.array([xpi_grid[:,1]]), requires_grad=True).T.float().to(self.device)\n",
    "        self.xpi_a_tensor = torch.tensor(np.array([xpi_grid[:,2]]), requires_grad=True).T.float().to(self.device)\n",
    "\n",
    "\n",
    "        \n",
    "        # 2. t=0 initial condition points\n",
    "        x_inter, t_inter, a_inter = np.meshgrid(x, 0, a)\n",
    "        t0_grid = np.hstack((x_inter.flatten()[:,None], t_inter.flatten()[:,None], a_inter.flatten()[:,None])) \n",
    "        \n",
    "        self.t0_x_tensor = torch.tensor(np.array([t0_grid[:,0]]), requires_grad=True).T.float().to(self.device)\n",
    "        self.t0_t_tensor = torch.tensor(np.array([t0_grid[:,1]]), requires_grad=True).T.float().to(self.device)\n",
    "        self.t0_a_tensor = torch.tensor(np.array([t0_grid[:,2]]), requires_grad=True).T.float().to(self.device)\n",
    "\n",
    "        #We made tryouts with more boundary points, but didnt use it in the end\n",
    "        '''\n",
    "        # 3. a=0 and a=1 boundary points\n",
    "        # initial condition points(a=0)\n",
    "        x_inter, t_inter, a_inter = np.meshgrid(x, t, 0)\n",
    "        a0_grid = np.hstack((x_inter.flatten()[:,None], t_inter.flatten()[:,None], a_inter.flatten()[:,None])) \n",
    "\n",
    "        self.a0_x_tensor = torch.tensor([a0_grid[:,0]], requires_grad=True).T.float().to(self.device)\n",
    "        self.a0_t_tensor = torch.tensor([a0_grid[:,1]], requires_grad=True).T.float().to(self.device)\n",
    "        self.a0_a_tensor = torch.tensor([a0_grid[:,2]], requires_grad=False).T.float().to(self.device)\n",
    "\n",
    "        # final condition points(a=1)\n",
    "        x_inter, t_inter, a_inter = np.meshgrid(x, t, 1)\n",
    "        a1_grid = np.hstack((x_inter.flatten()[:,None], t_inter.flatten()[:,None], a_inter.flatten()[:,None]))\n",
    "        \n",
    "        self.a1_x_tensor = torch.tensor([a1_grid[:,0]], requires_grad=True).T.float().to(self.device)\n",
    "        self.a1_t_tensor = torch.tensor([a1_grid[:,1]], requires_grad=True).T.float().to(self.device)\n",
    "        self.a1_a_tensor = torch.tensor([a1_grid[:,2]], requires_grad=False).T.float().to(self.device)\n",
    "        '''\n",
    "        \n",
    "\n",
    "        # adam optimizer\n",
    "        self.max_iter = 4000\n",
    "        self.optimizer = torch.optim.Adam(self.net.parameters())\n",
    "\n",
    "        \n",
    "        self.iter = 0\n",
    "    \n",
    "    def net_u(self, x, t, a): #get u(x,t, a) for a pair (x,t, a); a forward pass through the PINN\n",
    "        u = self.net(torch.cat([x, t, a], dim=1))\n",
    "        return u\n",
    "    \n",
    "    def net_f(self, x, t, a): #get f = u_t + u * u_x - self.nu * u_xx; the true u(x,t) makes f = 0\n",
    "        u = self.net_u(x, t, a)\n",
    "        u_t = torch.autograd.grad( #first partial derivative with respect to t\n",
    "            u, t, \n",
    "            grad_outputs=torch.ones_like(u),\n",
    "            retain_graph=True,\n",
    "            create_graph=True\n",
    "        )[0]\n",
    "        u_x = torch.autograd.grad( #first partial derivative with respect to x\n",
    "            u, x, \n",
    "            grad_outputs=torch.ones_like(u),\n",
    "            retain_graph=True,\n",
    "            create_graph=True\n",
    "        )[0]\n",
    "        u_xx = torch.autograd.grad( #second partial derivative with respect to x\n",
    "            u_x, x, \n",
    "            grad_outputs=torch.ones_like(u_x),\n",
    "            retain_graph=True,\n",
    "            create_graph=True\n",
    "        )[0]\n",
    "        f = u_t - (a**2)*u_xx   #the computed PDE, we want to be a close as possible to 0\n",
    "        return f\n",
    "\n",
    "    def loss_func(self):\n",
    "        self.optimizer.zero_grad()\n",
    "        \n",
    "        # x=0 and x=pi boundary points\n",
    "        u_pred_x0 = self.net_u(self.x0_x_tensor, self.x0_t_tensor, self.x0_a_tensor) # all the ic/bc pairs were fed through the PINN\n",
    "        u_pred_xpi = self.net_u(self.xpi_x_tensor, self.xpi_t_tensor, self.xpi_a_tensor)\n",
    "        \n",
    "        # t=0 boundary points\n",
    "        u_pred_t0 = self.net_u(self.t0_x_tensor, self.t0_t_tensor, self.t0_a_tensor)\n",
    "        \n",
    "        # evalutation of main equation using collocation points\n",
    "        f_pred = self.net_f(self.col_x_tensor, self.col_t_tensor, self.col_a_tensor) # all the collocations points were fed through the PINN\n",
    "\n",
    "        '''\n",
    "        # a=0 and a=1 boundary points\n",
    "        u_pred_a0 = self.net_u(self.a0_x_tensor, self.a0_t_tensor, self.a0_a_tensor) # all the ic/bc pairs were fed through the PINN\n",
    "        u_pred_a1 = self.net_u(self.a1_x_tensor, self.a1_t_tensor, self.a1_a_tensor)\n",
    "        '''\n",
    "\n",
    "        \n",
    "        # predictions over support points\n",
    "        u_pred_sup = self.net_u(self.sup_x_tensor, self.sup_t_tensor, self.sup_a_tensor)\n",
    "        \n",
    "\n",
    "        #ic/bc on x\n",
    "        loss_u = torch.mean(u_pred_x0 ** 2) #MSE loss on the ic/bc pairs, MSE loss on trainset, classic NN\n",
    "        loss_u += torch.mean(u_pred_xpi ** 2)\n",
    "        # ic on t\n",
    "        loss_u += torch.mean((2*torch.sin(self.t0_x_tensor) - u_pred_t0) ** 2)\n",
    "        \n",
    "        #Loss on unused boundary points\n",
    "        '''\n",
    "        #ic/bc on a\n",
    "        loss_u += torch.mean((2*torch.sin(2*self.a0_x_tensor) - u_pred_a0) ** 2)\n",
    "        loss_u += torch.mean((2*torch.sin(2*self.a1_x_tensor)*torch.exp(-self.a1_t_tensor) - u_pred_a1) ** 2)\n",
    "        '''\n",
    "\n",
    "        # main equation loss\n",
    "        loss_f = torch.mean(f_pred ** 2) #MSE loss on the collocations pairs, regularization term\n",
    "\n",
    "        \n",
    "        # loss of support points against true solution\n",
    "        loss_sup = torch.mean((2*torch.sin(self.sup_x_tensor)*torch.exp(-(self.sup_a_tensor*self.sup_a_tensor)*self.sup_t_tensor) - u_pred_sup) ** 2)\n",
    "        \n",
    "\n",
    "        loss = loss_u + loss_f + loss_sup #classic loss + regularization loss (enforce the PDE structure) => PINN loss\n",
    "        \n",
    "        loss.backward() #backpropagation\n",
    "        \n",
    "        self.iter += 1\n",
    "        if self.verbose:\n",
    "            if self.iter % 100 == 0:\n",
    "                print(\n",
    "                    'Iter %d, Loss: %.5e, Loss_u: %.5e, Loss_f: %.5e' % (self.iter, loss.item(), loss_u.item(), loss_f.item())\n",
    "                )\n",
    "        return loss\n",
    "    \n",
    "    def train(self):\n",
    "        self.net.train()\n",
    "        \n",
    "        for i in range(self.max_iter):\n",
    "            # Backward and optimize\n",
    "            self.optimizer.step(self.loss_func)\n",
    "\n",
    "            \n",
    "    def predict(self, xta):\n",
    "        x = torch.tensor(np.array([xta[:, 0]]), requires_grad=True).T.float().to(self.device) #get x from pair\n",
    "        t = torch.tensor(np.array([xta[:, 1]]), requires_grad=True).T.float().to(self.device) #get t from pair\n",
    "        a = torch.tensor(np.array([xta[:, 2]]), requires_grad=False).T.float().to(self.device) #get t from pair\n",
    "\n",
    "        self.net.eval()\n",
    "\n",
    "        u = self.net_u(x, t, a) \n",
    "        f = self.net_f(x, t, a)\n",
    "        u = u.detach().cpu().numpy()\n",
    "        f = f.detach().cpu().numpy()\n",
    "        return u, f"
   ]
  },
  {
   "cell_type": "markdown",
   "id": "da3caa44",
   "metadata": {
    "id": "da3caa44"
   },
   "source": [
    "### Data generation"
   ]
  },
  {
   "cell_type": "code",
   "execution_count": 4,
   "id": "5341c6e3",
   "metadata": {
    "executionInfo": {
     "elapsed": 296,
     "status": "ok",
     "timestamp": 1671120659389,
     "user": {
      "displayName": "Justin Manson",
      "userId": "07466281473432605352"
     },
     "user_tz": -60
    },
    "id": "5341c6e3"
   },
   "outputs": [],
   "source": [
    "x_true = math.pi*np.linspace(0,1,90)\n",
    "t_true = np.linspace(0,1,90)\n",
    "a_true = np.linspace(0,1,90)\n",
    "# exact solution\n",
    "def f_exact(x,t,a):\n",
    "    return 2*np.sin(x)*np.exp(-(a**2)*t)\n",
    "\n",
    "x_inter, t_inter, a_inter = np.meshgrid(x_true, t_true, a_true)\n",
    "grid_exact = np.hstack((x_inter.flatten()[:,None], t_inter.flatten()[:,None], a_inter.flatten()[:,None])) \n",
    "ex = f_exact(grid_exact[:,0], grid_exact[:,1], grid_exact[:,2]).reshape(-1,1)"
   ]
  },
  {
   "cell_type": "markdown",
   "id": "a555385d",
   "metadata": {
    "id": "a555385d"
   },
   "source": [
    "### Create and train"
   ]
  },
  {
   "cell_type": "code",
   "execution_count": 5,
   "id": "dac65d6c",
   "metadata": {
    "colab": {
     "base_uri": "https://localhost:8080/"
    },
    "executionInfo": {
     "elapsed": 77840,
     "status": "ok",
     "timestamp": 1671120739347,
     "user": {
      "displayName": "Justin Manson",
      "userId": "07466281473432605352"
     },
     "user_tz": -60
    },
    "id": "dac65d6c",
    "outputId": "e20f4180-ee39-4d81-ff4d-cda002ad479e"
   },
   "outputs": [
    {
     "name": "stdout",
     "output_type": "stream",
     "text": [
      "device used: cuda:0\n",
      "x shape: (80, 1, 1)\n",
      "t shape: (1, 80, 1)\n",
      "a shape: (1, 1, 80)\n",
      "Iter 100, Loss: 6.20643e-02, Loss_u: 1.44524e-02, Loss_f: 4.34776e-02\n",
      "Iter 200, Loss: 2.84304e-02, Loss_u: 1.34363e-02, Loss_f: 1.31882e-02\n",
      "Iter 300, Loss: 2.97847e-02, Loss_u: 1.94584e-02, Loss_f: 6.75464e-03\n",
      "Iter 400, Loss: 1.04468e-02, Loss_u: 5.53220e-03, Loss_f: 4.21329e-03\n",
      "Iter 500, Loss: 6.95713e-03, Loss_u: 3.81651e-03, Loss_f: 2.59649e-03\n",
      "Iter 600, Loss: 4.83968e-03, Loss_u: 2.59873e-03, Loss_f: 1.78037e-03\n",
      "Iter 700, Loss: 3.68575e-03, Loss_u: 1.88890e-03, Loss_f: 1.43854e-03\n",
      "Iter 800, Loss: 3.36927e-03, Loss_u: 1.56902e-03, Loss_f: 1.29887e-03\n",
      "Iter 900, Loss: 2.51696e-03, Loss_u: 1.14236e-03, Loss_f: 1.12272e-03\n",
      "Iter 1000, Loss: 3.68209e-03, Loss_u: 2.18752e-03, Loss_f: 1.10278e-03\n",
      "Iter 1100, Loss: 1.94786e-03, Loss_u: 8.20774e-04, Loss_f: 9.19278e-04\n",
      "Iter 1200, Loss: 1.73343e-03, Loss_u: 7.19410e-04, Loss_f: 8.25721e-04\n",
      "Iter 1300, Loss: 1.61560e-03, Loss_u: 6.56065e-04, Loss_f: 7.78706e-04\n",
      "Iter 1400, Loss: 1.46979e-03, Loss_u: 6.00212e-04, Loss_f: 7.01813e-04\n",
      "Iter 1500, Loss: 3.37189e-02, Loss_u: 2.36323e-02, Loss_f: 1.41579e-03\n",
      "Iter 1600, Loss: 1.29135e-03, Loss_u: 5.24465e-04, Loss_f: 6.15896e-04\n",
      "Iter 1700, Loss: 1.19768e-03, Loss_u: 4.91711e-04, Loss_f: 5.66730e-04\n",
      "Iter 1800, Loss: 2.34847e-03, Loss_u: 1.48100e-03, Loss_f: 5.39142e-04\n",
      "Iter 1900, Loss: 1.09881e-03, Loss_u: 4.50611e-04, Loss_f: 5.22084e-04\n",
      "Iter 2000, Loss: 1.02748e-03, Loss_u: 4.26090e-04, Loss_f: 4.84072e-04\n",
      "Iter 2100, Loss: 9.65777e-04, Loss_u: 4.02759e-04, Loss_f: 4.53399e-04\n",
      "Iter 2200, Loss: 1.22136e-03, Loss_u: 5.83777e-04, Loss_f: 4.86106e-04\n",
      "Iter 2300, Loss: 8.82372e-04, Loss_u: 3.70587e-04, Loss_f: 4.14633e-04\n",
      "Iter 2400, Loss: 8.32558e-04, Loss_u: 3.50939e-04, Loss_f: 3.89752e-04\n",
      "Iter 2500, Loss: 8.35167e-04, Loss_u: 3.44511e-04, Loss_f: 3.96410e-04\n",
      "Iter 2600, Loss: 7.75395e-04, Loss_u: 3.26375e-04, Loss_f: 3.66406e-04\n",
      "Iter 2700, Loss: 7.31765e-04, Loss_u: 3.09770e-04, Loss_f: 3.44569e-04\n",
      "Iter 2800, Loss: 2.50900e-03, Loss_u: 1.71983e-03, Loss_f: 4.10495e-04\n",
      "Iter 2900, Loss: 6.81880e-04, Loss_u: 2.86933e-04, Loss_f: 3.25722e-04\n",
      "Iter 3000, Loss: 6.42648e-04, Loss_u: 2.71975e-04, Loss_f: 3.05326e-04\n",
      "Iter 3100, Loss: 7.85064e-04, Loss_u: 4.00007e-04, Loss_f: 2.93623e-04\n",
      "Iter 3200, Loss: 5.88194e-04, Loss_u: 2.48223e-04, Loss_f: 2.79618e-04\n",
      "Iter 3300, Loss: 6.33548e-04, Loss_u: 2.96727e-04, Loss_f: 2.78369e-04\n",
      "Iter 3400, Loss: 5.38136e-04, Loss_u: 2.27469e-04, Loss_f: 2.58872e-04\n",
      "Iter 3500, Loss: 7.49486e-04, Loss_u: 3.62275e-04, Loss_f: 2.96069e-04\n",
      "Iter 3600, Loss: 5.09263e-04, Loss_u: 2.11296e-04, Loss_f: 2.50504e-04\n",
      "Iter 3700, Loss: 4.82247e-04, Loss_u: 2.00447e-04, Loss_f: 2.37158e-04\n",
      "Iter 3800, Loss: 2.40302e-03, Loss_u: 1.82151e-03, Loss_f: 2.28405e-04\n",
      "Iter 3900, Loss: 4.50559e-04, Loss_u: 1.87672e-04, Loss_f: 2.21974e-04\n",
      "Iter 4000, Loss: 4.28319e-04, Loss_u: 1.77079e-04, Loss_f: 2.12632e-04\n"
     ]
    }
   ],
   "source": [
    "nb_nodes = 20\n",
    "nb_hidden_layers = 9\n",
    "layers = np.hstack([np.array([3]),np.full(nb_hidden_layers, nb_nodes),np.array([1])])\n",
    "\n",
    "# Number of points in each dimensions\n",
    "N_x = 80\n",
    "N_t = 80\n",
    "N_a = 80\n",
    "# generate grid for collocation and boundary points\n",
    "x = math.pi * np.random.rand(N_x,1,1)\n",
    "t = np.random.rand(1,N_t,1)\n",
    "a = np.random.rand(1,1,N_a)\n",
    "\n",
    "#model = PINN(layers, lambda_1, lambda_2, xt_train, xt_f, u_train)\n",
    "model = PINN(layers, x, t, a, tol=1e-5, hs=50)\n",
    "\n",
    "model.train()"
   ]
  },
  {
   "cell_type": "markdown",
   "id": "17656e1e",
   "metadata": {
    "id": "17656e1e"
   },
   "source": [
    "### Evaluate"
   ]
  },
  {
   "cell_type": "code",
   "execution_count": 6,
   "id": "5ab11eb7",
   "metadata": {
    "colab": {
     "base_uri": "https://localhost:8080/"
    },
    "executionInfo": {
     "elapsed": 451,
     "status": "ok",
     "timestamp": 1671120739790,
     "user": {
      "displayName": "Justin Manson",
      "userId": "07466281473432605352"
     },
     "user_tz": -60
    },
    "id": "5ab11eb7",
    "outputId": "4c951276-096b-49aa-f157-6fba61f8475e"
   },
   "outputs": [
    {
     "name": "stdout",
     "output_type": "stream",
     "text": [
      "L2 Error u: 8.331815e-03\n",
      "MSE Error u: 0.00010486879056229046\n",
      "MSE Error f: 0.006451795936158919\n"
     ]
    }
   ],
   "source": [
    "def l2_norm(pred, true):\n",
    "    return np.linalg.norm(true - pred,2)/np.linalg.norm(true, 2)\n",
    "\n",
    "def mse(pred, true):\n",
    "    return ((pred - true)**2).mean(axis=0).item()\n",
    "\n",
    "u_pred, f_pred = model.predict(grid_exact)\n",
    "\n",
    "l2_u = l2_norm(u_pred, ex)  #u_sol 25600,1 contains the exact solution\n",
    "print('L2 Error u: %e' % (l2_norm(u_pred, ex))) \n",
    "\n",
    "mse_u = mse(u_pred, ex)\n",
    "mse_f = mse(f_pred, np.zeros(f_pred.shape))\n",
    "\n",
    "print(f\"MSE Error u: {mse_u}\") \n",
    "print(f\"MSE Error f: {mse_f}\") "
   ]
  },
  {
   "cell_type": "code",
   "execution_count": null,
   "id": "2247c3b8-7583-4496-a137-ab4e8731fc44",
   "metadata": {},
   "outputs": [],
   "source": []
  },
  {
   "cell_type": "raw",
   "id": "4f3ca459-11d7-4d52-a0b2-5ddf9d376200",
   "metadata": {},
   "source": [
    "#8^3 support points, frequency =1\n",
    "L2 Error u: 8.492950e-03\n",
    "MSE Error u: 0.0001089642702398177\n",
    "MSE Error f: 0.006001790237880274"
   ]
  },
  {
   "cell_type": "raw",
   "id": "5e395c3a-26da-4288-9562-4b438550be82",
   "metadata": {},
   "source": [
    "#No support points, frequency =2\n",
    "L2 Error u: 3.173040e-01\n",
    "MSE Error u: 0.15209612831790387\n",
    "MSE Error f: 0.08679463536796518"
   ]
  },
  {
   "cell_type": "raw",
   "id": "16e0716b-4849-4a73-8efb-c354b24a9ce3",
   "metadata": {},
   "source": [
    "# 5^3 support points, frequency =2\n",
    "L2 Error u: 2.541444e-01\n",
    "MSE Error u: 0.09757263424930483\n",
    "MSE Error f: 1.0792365748136281"
   ]
  },
  {
   "cell_type": "raw",
   "id": "d9bb3e85-192b-490c-90b4-510b8d82d0c2",
   "metadata": {},
   "source": [
    "#8^3 support points, frequency =2\n",
    "L2 Error u: 1.687643e-01\n",
    "MSE Error u: 0.0430257148861509\n",
    "MSE Error f: 1.7848512688955163"
   ]
  },
  {
   "cell_type": "raw",
   "id": "98a2829c-57ad-4d2e-bb8a-04fef5158cec",
   "metadata": {},
   "source": [
    "#10^3 support points, frequency =2\n",
    "L2 Error u: 1.320496e-01\n",
    "MSE Error u: 0.026341551939949387\n",
    "MSE Error f: 1.9893851952611863"
   ]
  },
  {
   "cell_type": "code",
   "execution_count": 7,
   "id": "KRlo4VzyF9h4",
   "metadata": {
    "executionInfo": {
     "elapsed": 7,
     "status": "ok",
     "timestamp": 1671120739792,
     "user": {
      "displayName": "Justin Manson",
      "userId": "07466281473432605352"
     },
     "user_tz": -60
    },
    "id": "KRlo4VzyF9h4"
   },
   "outputs": [],
   "source": [
    "# 9 evalutations of f_exact for different fixed values of a and t:\n",
    "true_lst = [] # list of 9 evaluations of f_exact\n",
    "pred_lst = [] # list of 9 evaluations of PINN\n",
    "x_true = x_true.reshape(1,-1).T   # evaluate f over fine grid of x_true (90,1)\n",
    "x_len = x_true.shape[0]\n",
    "a_lst = [0.25,0.5,0.75]\n",
    "t_lst = [0.25,0.5,0.75]\n",
    "for t in t_lst:\n",
    "    for a in a_lst:\n",
    "        t_vec = t*np.ones((x_len, 1)) #(90,1)\n",
    "        a_vec = a*np.ones((x_len, 1)) #(90,1)\n",
    "        # evaluate using exaxt solution\n",
    "        true_lst.append(f_exact(x_true,t_vec,a_vec)) #(90,1)\n",
    "\n",
    "        # evaluate same points using PINN\n",
    "        grid_forNN = np.hstack((x_true.flatten()[:,None], t_vec.flatten()[:,None], a_vec.flatten()[:,None]))\n",
    "        u_pred, _ = model.predict(grid_forNN)\n",
    "        pred_lst.append(u_pred)"
   ]
  },
  {
   "cell_type": "code",
   "execution_count": 8,
   "id": "0d59acc3-f88c-4ea1-b0d8-771657bcb1d0",
   "metadata": {
    "colab": {
     "base_uri": "https://localhost:8080/",
     "height": 457
    },
    "executionInfo": {
     "elapsed": 2710,
     "status": "ok",
     "timestamp": 1671121067849,
     "user": {
      "displayName": "Justin Manson",
      "userId": "07466281473432605352"
     },
     "user_tz": -60
    },
    "id": "0d59acc3-f88c-4ea1-b0d8-771657bcb1d0",
    "outputId": "88d0f6a3-a2f1-408e-e10d-5d891d2a73bb"
   },
   "outputs": [
    {
     "data": {
      "image/png": "[encoded data removed]",
      "text/plain": [
       "<Figure size 720x432 with 9 Axes>"
      ]
     },
     "metadata": {
      "needs_background": "light"
     },
     "output_type": "display_data"
    }
   ],
   "source": [
    "#to_plot=u_pred.reshape((90,90,90))\n",
    "#true_plot= ex.reshape((90,90,90))\n",
    "fig, axs = plt.subplots(3, 3, figsize=(10, 6), sharex=False, constrained_layout = True)\n",
    "for i in range(3):    #iterate over t\n",
    "    for j in range(3):    #iterate over a\n",
    "        axs[i,j].set_title(f'a={0.25*(j+1)} and t ={0.25*(i+1)}')\n",
    "        axs[i,j].plot(x_true, true_lst[3*i+j])\n",
    "        axs[i,j].plot(x_true, pred_lst[3*i+j])\n",
    "        axs[i,j].legend(['Exact', 'PINN'])\n",
    "        axs[i,j].set_xlabel('x')\n",
    "        axs[i,j].set_ylabel('u(x,t,a)')\n",
    "plt.suptitle('3D Heat equation u(x,t,a) with 10\\u00b3 support points lower freq')\n",
    "fig.show;\n",
    "plt.savefig(fname='3D Heat equation u(x,t,a) with 10^3 support points lower freq')"
   ]
  },
  {
   "cell_type": "code",
   "execution_count": 18,
   "id": "56b2a315-c559-4f2c-94b0-a33798aa3ed6",
   "metadata": {},
   "outputs": [],
   "source": [
    "from scipy.stats import qmc\n",
    "\n",
    "N_true = 100 #Number of points in the true solution\n",
    "x_true = math.pi*np.linspace(0,1,N_true)\n",
    "t_true = np.linspace(0,1,N_true)\n",
    "a_true = np.linspace(0,1,N_true)\n",
    "\n",
    "# exact solution\n",
    "def f_exact(x,t,a):\n",
    "    return 2*np.sin(2*x)*np.exp(-(a**2)*t)\n",
    "\n",
    "x_exact = np.tile(x_true,N_true).repeat(N_true)\n",
    "t_exact = np.repeat(t_true,N_true**2)\n",
    "a_exact = np.tile(a_true,N_true**2)\n",
    "ex = f_exact(x_exact, t_exact, a_exact).reshape(-1,1)\n",
    "\"\"\"\n",
    "#Training points generated with lhs\n",
    "sampler = qmc.LatinHypercube(d=3, seed=0)\n",
    "sample = sampler.random(n=100)\n",
    "\n",
    "x = math.pi*sample[:,0].reshape(-1, 1, 1)\n",
    "t = sample[:,1].reshape(1, -1, 1)\n",
    "a = sample[:,2].reshape(1, 1, -1)\n",
    "\"\"\"\n",
    "# Number of points in each dimensions\n",
    "N_x = 80\n",
    "N_t = 80\n",
    "N_a = 80\n",
    "# generate grid for collocation and boundary points\n",
    "x = math.pi * np.random.rand(N_x,1,1)\n",
    "t = np.random.rand(1,N_t,1)\n",
    "a = np.random.rand(1,1,N_a)\n"
   ]
  },
  {
   "cell_type": "code",
   "execution_count": null,
   "id": "43a656aa-abfb-4b9e-a579-96101b996bbd",
   "metadata": {},
   "outputs": [],
   "source": []
  }
 ],
 "metadata": {
  "accelerator": "GPU",
  "colab": {
   "provenance": []
  },
  "gpuClass": "standard",
  "kernelspec": {
   "display_name": "Python 3 (ipykernel)",
   "language": "python",
   "name": "python3"
  },
  "language_info": {
   "codemirror_mode": {
    "name": "ipython",
    "version": 3
   },
   "file_extension": ".py",
   "mimetype": "text/x-python",
   "name": "python",
   "nbconvert_exporter": "python",
   "pygments_lexer": "ipython3",
   "version": "3.9.7"
  }
 },
 "nbformat": 4,
 "nbformat_minor": 5
}
