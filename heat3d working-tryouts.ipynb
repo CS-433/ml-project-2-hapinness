{
 "cells": [
  {
   "cell_type": "markdown",
   "id": "ee08082a-e8a2-4fe1-b312-60d3f43a6049",
   "metadata": {},
   "source": [
    "### Heat equation\n",
    "Custom 3D form:\n",
    "\n",
    "\\begin{equation*}\n",
    "\\begin{cases} \n",
    "\\frac{\\partial u}{\\partial t} = a^2 \\frac{\\partial^2 u}{\\partial x^2} & x \\in (0,L), \\; t > 0, \\; a \\in [0,1] \\\\\n",
    "u(0,t,a) = u(L,t,a) = 0 & t > 0, \\; a \\in [0,1]\\\\\n",
    "u(x,0,a) = h(x) & x \\in (0,L), \\; a \\in [0,1] \\\\\n",
    "\\end{cases}\n",
    "\\end{equation*}\n",
    "\n",
    "with the particular case where $h(x) = 2\\sin(\\alpha \\frac{\\pi}{L}x)$ and $L=\\pi$. Note that $\\alpha$ is a constant we can tune to adjust the frequency of the desired solution. \n",
    "The solution of the three dimensional Heat equation for this particular case is given by: \n",
    "\\begin{equation*}\n",
    "u_{exact}(x,t,a) = 2\\sin(\\alpha \\cdot x) \\cdot e^{-a^2 t}\n",
    "\\end{equation*}"
   ]
  },
  {
   "cell_type": "code",
   "execution_count": 1,
   "id": "076a0559",
   "metadata": {
    "executionInfo": {
     "elapsed": 415,
     "status": "ok",
     "timestamp": 1671120655956,
     "user": {
      "displayName": "Justin Manson",
      "userId": "07466281473432605352"
     },
     "user_tz": -60
    },
    "id": "076a0559"
   },
   "outputs": [],
   "source": [
    "import math\n",
    "import numpy as np\n",
    "import matplotlib.pyplot as plt\n",
    "np.random.seed(0)"
   ]
  },
  {
   "cell_type": "markdown",
   "id": "60b18d65",
   "metadata": {
    "id": "60b18d65"
   },
   "source": [
    "### DNN"
   ]
  },
  {
   "cell_type": "code",
   "execution_count": 2,
   "id": "11d5ac7c",
   "metadata": {
    "executionInfo": {
     "elapsed": 4,
     "status": "ok",
     "timestamp": 1671120656512,
     "user": {
      "displayName": "Justin Manson",
      "userId": "07466281473432605352"
     },
     "user_tz": -60
    },
    "id": "11d5ac7c"
   },
   "outputs": [],
   "source": [
    "import torch\n",
    "from torch import nn \n",
    "from collections import OrderedDict\n",
    "torch.manual_seed(0)\n",
    "\n",
    "class DNN(torch.nn.Module):\n",
    "    def __init__(self, layers):\n",
    "        super(DNN, self).__init__()\n",
    "        \n",
    "        self.activation = torch.nn.Tanh\n",
    "        \n",
    "        layer_list = list()\n",
    "        for i in range(len(layers) - 2): \n",
    "            layer_list.append(\n",
    "                ('layer_%d' % i, torch.nn.Linear(layers[i], layers[i+1]))\n",
    "            )\n",
    "            layer_list.append(('activation_%d' % i, self.activation()))\n",
    "            \n",
    "        layer_list.append(\n",
    "            ('layer_%d' % (len(layers) - 2), torch.nn.Linear(layers[-2], layers[-1]))\n",
    "        )\n",
    "        layerDict = OrderedDict(layer_list)\n",
    "\n",
    "        self.layers = torch.nn.Sequential(layerDict)\n",
    "        \n",
    "    def forward(self, x):\n",
    "        out = self.layers(x)\n",
    "        return out\n",
    "    "
   ]
  },
  {
   "cell_type": "markdown",
   "id": "1309021a",
   "metadata": {
    "id": "1309021a"
   },
   "source": [
    "### PINN"
   ]
  },
  {
   "cell_type": "code",
   "execution_count": 3,
   "id": "e8911f35",
   "metadata": {
    "executionInfo": {
     "elapsed": 6,
     "status": "ok",
     "timestamp": 1671120656973,
     "user": {
      "displayName": "Justin Manson",
      "userId": "07466281473432605352"
     },
     "user_tz": -60
    },
    "id": "e8911f35"
   },
   "outputs": [],
   "source": [
    "import torch.optim as optim\n",
    "\n",
    "class PINN():\n",
    "    def __init__(self, layers, x, t, a, alpha, N_sup=0, tol=1e-5, hs=50, verbose=True): \n",
    "        \n",
    "        self.device = torch.device('cuda:0' if torch.cuda.is_available() else 'cpu')\n",
    "        self.verbose = verbose\n",
    "        if self.verbose:\n",
    "            print(f\"device used: {self.device}\")\n",
    "            print(f\"x shape: {x.shape}\")\n",
    "            print(f\"t shape: {t.shape}\")\n",
    "            print(f\"a shape: {a.shape}\")\n",
    "        \n",
    "        self.net = DNN(layers).to(self.device)\n",
    "        for m in self.net.modules():\n",
    "            if isinstance(m, nn.Linear):\n",
    "                torch.nn.init.xavier_uniform_(m.weight)\n",
    "                \n",
    "        #set alpha parameter\n",
    "        self.alpha = alpha\n",
    "        #set N_sup\n",
    "        self.N_sup = N_sup\n",
    "        # generate collocation points (first N_col points from the randomly sampled vectors)\n",
    "        N_col = 40 # number of collocation points\n",
    "        \n",
    "        self.col_x_tensor = torch.repeat_interleave(torch.tensor(x[:N_col,:,:]).squeeze(), N_col).unsqueeze(-1).repeat(N_col,1).float().to(self.device)\n",
    "        self.col_t_tensor = torch.repeat_interleave(torch.tensor(t[:,:N_col,:]).squeeze(), N_col**2).unsqueeze(-1).float().to(self.device)\n",
    "        self.col_a_tensor = torch.tensor(a[:,:,:N_col]).squeeze().unsqueeze(-1).repeat(N_col**2,1).float().to(self.device)\n",
    "        self.col_x_tensor.requires_grad_()\n",
    "        self.col_t_tensor.requires_grad_()\n",
    "        self.col_a_tensor.requires_grad_()\n",
    "        \n",
    "        # generate support points (last N_sup points from the randomly sampled vectors)\n",
    "        if(N_sup != 0):\n",
    "            self.sup_x_tensor = torch.repeat_interleave(torch.tensor(x[-N_sup:,:,:]).squeeze(), N_sup).unsqueeze(-1).repeat(N_sup,1).float().to(self.device)\n",
    "            self.sup_t_tensor = torch.repeat_interleave(torch.tensor(t[:,-N_sup:,:]).squeeze(), N_sup**2).unsqueeze(-1).float().to(self.device)\n",
    "            self.sup_a_tensor = torch.tensor(a[:,:,-N_sup:]).squeeze().unsqueeze(-1).repeat(N_sup**2,1).float().to(self.device)\n",
    "            self.sup_x_tensor.requires_grad_()\n",
    "            self.sup_t_tensor.requires_grad_()\n",
    "            self.sup_a_tensor.requires_grad_()\n",
    "        \n",
    "        # constants for the correct generation of boundary conditions\n",
    "        N_x = x.shape[0]\n",
    "        N_t = t.shape[1]\n",
    "        N_a = a.shape[2]\n",
    "        \n",
    "        # 1. x=0 and x=pi boundary points\n",
    "        # initial condition points(x=0)\n",
    "        self.x0_x_tensor = torch.zeros([N_x**2,1]).to(self.device)\n",
    "        self.x0_t_tensor = torch.repeat_interleave(torch.tensor(t),N_t).unsqueeze(-1).float().to(self.device)\n",
    "        self.x0_a_tensor = torch.tensor(a).squeeze().unsqueeze(-1).repeat(N_a,1).float().to(self.device)\n",
    "        self.x0_x_tensor.requires_grad_()\n",
    "        self.x0_t_tensor.requires_grad_()\n",
    "        self.x0_a_tensor.requires_grad_()  \n",
    "        \n",
    "        # final condition points (x=pi)\n",
    "        self.xpi_x_tensor = math.pi*torch.ones([N_x**2,1]).to(self.device)\n",
    "        self.xpi_t_tensor = torch.repeat_interleave(torch.tensor(t),N_t).unsqueeze(-1).float().to(self.device)\n",
    "        self.xpi_a_tensor = torch.tensor(a).squeeze().unsqueeze(-1).repeat(N_a,1).float().to(self.device)    \n",
    "        self.xpi_x_tensor.requires_grad_()\n",
    "        self.xpi_t_tensor.requires_grad_()\n",
    "        self.xpi_a_tensor.requires_grad_() \n",
    "\n",
    "        # 2. t=0 initial condition points\n",
    "        self.t0_x_tensor = torch.repeat_interleave(torch.tensor(x),N_x).unsqueeze(-1).float().to(self.device)\n",
    "        self.t0_t_tensor = torch.zeros([N_t**2,1]).to(self.device)\n",
    "        self.t0_a_tensor = torch.tensor(a).squeeze().unsqueeze(-1).repeat(N_a,1).float().to(self.device)\n",
    "        self.t0_x_tensor.requires_grad_()\n",
    "        self.t0_t_tensor.requires_grad_()\n",
    "        self.t0_a_tensor.requires_grad_()\n",
    "        \n",
    "        self.optimizer = torch.optim.LBFGS(\n",
    "            self.net.parameters(), \n",
    "            lr=1.0, \n",
    "            max_iter=50000, \n",
    "            max_eval=50000, \n",
    "            history_size=hs,\n",
    "            tolerance_grad=tol, \n",
    "            tolerance_change=1.0 * np.finfo(float).eps,\n",
    "            line_search_fn=\"strong_wolfe\"    \n",
    "        )\n",
    "\n",
    "        self.iter = 1\n",
    "        \n",
    "    def net_u(self, x, t, a): #get u(x, t, a) for a pair (x, t, a); a forward pass through the PINN\n",
    "        u = self.net(torch.cat([x, t, a], dim=1))\n",
    "        return u\n",
    "    \n",
    "    def net_f(self, x, t, a): #get f = u_t - a^2*u_xx; the true u(x, t, a) makes f = 0\n",
    "        u = self.net_u(x, t, a)\n",
    "        u_t = torch.autograd.grad( #first partial derivative with respect to t\n",
    "            u, t, \n",
    "            grad_outputs=torch.ones_like(u),\n",
    "            retain_graph=True,\n",
    "            create_graph=True,\n",
    "        )[0]\n",
    "        u_x = torch.autograd.grad( #first partial derivative with respect to x\n",
    "            u, x, \n",
    "            grad_outputs=torch.ones_like(u),\n",
    "            retain_graph=True,\n",
    "            create_graph=True\n",
    "        )[0]\n",
    "        u_xx = torch.autograd.grad( #second partial derivative with respect to x\n",
    "            u_x, x, \n",
    "            grad_outputs=torch.ones_like(u_x),\n",
    "            retain_graph=True,\n",
    "            create_graph=True\n",
    "        )[0]\n",
    "        f = u_t - (a**2)*u_xx   #the computed PDE, we want to be a close as possible to 0\n",
    "        \n",
    "        return f\n",
    "\n",
    "    def loss_func(self):\n",
    "        self.optimizer.zero_grad()       \n",
    "        # x=0 and x=pi boundary points\n",
    "        u_pred_x0 = self.net_u(self.x0_x_tensor, self.x0_t_tensor, self.x0_a_tensor) # all the ic/bc pairs were fed through the PINN\n",
    "        u_pred_xpi = self.net_u(self.xpi_x_tensor, self.xpi_t_tensor, self.xpi_a_tensor)\n",
    "        \n",
    "        # t=0 boundary points\n",
    "        u_pred_t0 = self.net_u(self.t0_x_tensor, self.t0_t_tensor, self.t0_a_tensor)\n",
    "        \n",
    "        # evalutation of main equation using collocation points\n",
    "        f_pred = self.net_f(self.col_x_tensor, self.col_t_tensor, self.col_a_tensor) # all the collocations points were fed through the PINN\n",
    "        \n",
    "        if(self.N_sup!=0):\n",
    "            # predictions over support points\n",
    "            u_pred_sup = self.net_u(self.sup_x_tensor, self.sup_t_tensor, self.sup_a_tensor)\n",
    "        \n",
    "        #loss for ic/bc \n",
    "        loss_u = torch.mean(u_pred_x0 ** 2) #MSE loss on the ic/bc pairs, MSE loss on trainset, classic NN\n",
    "        loss_u += torch.mean(u_pred_xpi ** 2)\n",
    "        # ic on t\n",
    "        loss_u += torch.mean((2*torch.sin(self.alpha*self.t0_x_tensor) - u_pred_t0) ** 2)\n",
    "        \n",
    "        # main equation loss\n",
    "        loss_f = torch.mean(f_pred ** 2) #MSE loss on the collocations pairs, regularization term\n",
    "\n",
    "        if(self.N_sup!=0):\n",
    "        # loss of support points against true solution\n",
    "            loss_sup = torch.mean((2*torch.sin(self.alpha*self.sup_x_tensor)*torch.exp(-(self.sup_a_tensor*self.sup_a_tensor)*self.sup_t_tensor) - u_pred_sup) ** 2)\n",
    "            loss = loss_u + loss_f + loss_sup #classic loss + regularization loss (enforce the PDE structure) +support loss (improve results)=> PINN loss\n",
    "        else : loss = loss_u + loss_f  #classic loss + regularization loss (enforce the PDE structure) => PINN loss\n",
    "        \n",
    "        \n",
    "        loss.backward() #backpropagation\n",
    "        \n",
    "        self.iter += 1\n",
    "        if self.verbose:\n",
    "            if self.iter % 1000 == 0:\n",
    "                print(\n",
    "                    'Iter %d, Loss: %.5e, Loss_u: %.5e, Loss_f: %.5e' % (self.iter, loss.item(), loss_u.item(), loss_f.item())\n",
    "                )\n",
    "        return loss\n",
    "    \n",
    "    def train(self):\n",
    "        self.net.train()\n",
    "        \n",
    "        #for i in range(self.max_iter):\n",
    "            # Backward and optimize\n",
    "        self.optimizer.step(self.loss_func)\n",
    "\n",
    "            \n",
    "    def predict(self, x, t, a):\n",
    "        x_tensor = torch.tensor(x, requires_grad=True).float().to(self.device) #get x as tensor\n",
    "        t_tensor = torch.tensor(t, requires_grad=True).float().to(self.device) #get t as tensor\n",
    "        a_tensor = torch.tensor(a, requires_grad=True).float().to(self.device) #get a as tensor\n",
    "        self.net.eval()\n",
    "\n",
    "        u = self.net_u(x_tensor, t_tensor, a_tensor) \n",
    "        f = self.net_f(x_tensor, t_tensor, a_tensor)\n",
    "        u = u.detach().cpu().numpy()\n",
    "        f = f.detach().cpu().numpy()\n",
    "        return u, f"
   ]
  },
  {
   "cell_type": "markdown",
   "id": "da3caa44",
   "metadata": {
    "id": "da3caa44"
   },
   "source": [
    "### Data generation"
   ]
  },
  {
   "cell_type": "code",
   "execution_count": 4,
   "id": "5341c6e3",
   "metadata": {
    "executionInfo": {
     "elapsed": 296,
     "status": "ok",
     "timestamp": 1671120659389,
     "user": {
      "displayName": "Justin Manson",
      "userId": "07466281473432605352"
     },
     "user_tz": -60
    },
    "id": "5341c6e3"
   },
   "outputs": [],
   "source": [
    "from scipy.stats import qmc\n",
    "\n",
    "N_true = 100 #Number of points in the true solution\n",
    "x_true = math.pi*np.linspace(0,1,N_true)\n",
    "t_true = np.linspace(0,1,N_true)\n",
    "a_true = np.linspace(0,1,N_true)\n",
    "\n",
    "# exact solution\n",
    "def f_exact(x,t,a, alpha=2):\n",
    "    return 2*np.sin(alpha*x)*np.exp(-(a**2)*t)\n",
    "\n",
    "x_exact = np.tile(x_true,N_true).repeat(N_true)\n",
    "t_exact = np.repeat(t_true,N_true**2)\n",
    "a_exact = np.tile(a_true,N_true**2)\n",
    "ex = f_exact(x_exact, t_exact, a_exact).reshape(-1,1)\n",
    "\n",
    "# Number of points in each dimensions\n",
    "N_x = 100\n",
    "N_t = 100\n",
    "N_a = 100\n",
    "# generate grid for collocation and boundary points\n",
    "x = math.pi * np.random.rand(N_x,1,1)\n",
    "t = np.random.rand(1,N_t,1)\n",
    "a = np.random.rand(1,1,N_a)"
   ]
  },
  {
   "cell_type": "markdown",
   "id": "a555385d",
   "metadata": {
    "id": "a555385d"
   },
   "source": [
    "### Create and train"
   ]
  },
  {
   "cell_type": "code",
   "execution_count": null,
   "id": "dac65d6c",
   "metadata": {
    "colab": {
     "base_uri": "https://localhost:8080/"
    },
    "executionInfo": {
     "elapsed": 77840,
     "status": "ok",
     "timestamp": 1671120739347,
     "user": {
      "displayName": "Justin Manson",
      "userId": "07466281473432605352"
     },
     "user_tz": -60
    },
    "id": "dac65d6c",
    "outputId": "e20f4180-ee39-4d81-ff4d-cda002ad479e",
    "tags": []
   },
   "outputs": [
    {
     "name": "stdout",
     "output_type": "stream",
     "text": [
      "device used: cuda:0\n",
      "x shape: (100, 1, 1)\n",
      "t shape: (1, 100, 1)\n",
      "a shape: (1, 1, 100)\n",
      "Iter 1000, Loss: 7.56496e-04, Loss_u: 3.17030e-04, Loss_f: 4.39466e-04\n"
     ]
    }
   ],
   "source": [
    "nb_nodes = 20\n",
    "nb_hidden_layers = 7\n",
    "layers = np.hstack([np.array([3]),np.full(nb_hidden_layers, nb_nodes),np.array([1])])\n",
    "\n",
    "model = PINN(layers, x, t, a, alpha=2)\n",
    "\n",
    "model.train()"
   ]
  },
  {
   "cell_type": "markdown",
   "id": "17656e1e",
   "metadata": {
    "id": "17656e1e"
   },
   "source": [
    "### Evaluate"
   ]
  },
  {
   "cell_type": "code",
   "execution_count": null,
   "id": "5ab11eb7",
   "metadata": {
    "colab": {
     "base_uri": "https://localhost:8080/"
    },
    "executionInfo": {
     "elapsed": 451,
     "status": "ok",
     "timestamp": 1671120739790,
     "user": {
      "displayName": "Justin Manson",
      "userId": "07466281473432605352"
     },
     "user_tz": -60
    },
    "id": "5ab11eb7",
    "outputId": "4c951276-096b-49aa-f157-6fba61f8475e"
   },
   "outputs": [],
   "source": [
    "def l2_norm(pred, true):\n",
    "    return np.linalg.norm(true - pred,2)/np.linalg.norm(true, 2)\n",
    "\n",
    "def mse(pred, true):\n",
    "    return ((pred - true)**2).mean(axis=0).item()\n",
    "\n",
    "u_pred, f_pred = model.predict(x_exact.reshape(-1,1), t_exact.reshape(-1,1), a_exact.reshape(-1,1))\n",
    "\n",
    "l2_u = l2_norm(u_pred, ex)  \n",
    "print('L2 Error u: %e' % (l2_norm(u_pred, ex))) \n",
    "\n",
    "mse_u = mse(u_pred, ex)\n",
    "mse_f = mse(f_pred, np.zeros(f_pred.shape))\n",
    "\n",
    "print(f\"MSE Error u: {mse_u}\") \n",
    "print(f\"MSE Error f: {mse_f}\") "
   ]
  },
  {
   "cell_type": "code",
   "execution_count": null,
   "id": "KRlo4VzyF9h4",
   "metadata": {
    "executionInfo": {
     "elapsed": 7,
     "status": "ok",
     "timestamp": 1671120739792,
     "user": {
      "displayName": "Justin Manson",
      "userId": "07466281473432605352"
     },
     "user_tz": -60
    },
    "id": "KRlo4VzyF9h4"
   },
   "outputs": [],
   "source": [
    "# 9 evalutations of f_exact for different fixed values of a and t:\n",
    "true_lst = [] # list of 9 evaluations of f_exact\n",
    "pred_lst = [] # list of 9 evaluations of PINN\n",
    "x_true = x_true.reshape(-1,1)   # evaluate f over fine grid of x_true\n",
    "x_len = x_true.shape[0]\n",
    "a_lst = [0.25,0.5,0.75]\n",
    "t_lst = [0.25,0.5,0.75]\n",
    "for t_tmp in t_lst:\n",
    "    for a_tmp in a_lst:\n",
    "        t_vec = t_tmp*np.ones((x_len, 1))\n",
    "        a_vec = a_tmp*np.ones((x_len, 1)) \n",
    "        # evaluate using exaxt solution\n",
    "        true_lst.append(f_exact(x_true,t_vec,a_vec)) \n",
    "\n",
    "        # evaluate same points using PINN\n",
    "        u_pred, _ = model.predict(x_true.reshape(-1,1), t_vec.reshape(-1,1), a_vec.reshape(-1,1))\n",
    "        pred_lst.append(u_pred)"
   ]
  },
  {
   "cell_type": "code",
   "execution_count": null,
   "id": "0d59acc3-f88c-4ea1-b0d8-771657bcb1d0",
   "metadata": {
    "colab": {
     "base_uri": "https://localhost:8080/",
     "height": 457
    },
    "executionInfo": {
     "elapsed": 2710,
     "status": "ok",
     "timestamp": 1671121067849,
     "user": {
      "displayName": "Justin Manson",
      "userId": "07466281473432605352"
     },
     "user_tz": -60
    },
    "id": "0d59acc3-f88c-4ea1-b0d8-771657bcb1d0",
    "outputId": "88d0f6a3-a2f1-408e-e10d-5d891d2a73bb"
   },
   "outputs": [],
   "source": [
    "#Create plot\n",
    "fig, axs = plt.subplots(3, 3, figsize=(10, 6), sharex=False, constrained_layout = True)\n",
    "for i in range(3):    #iterate over t\n",
    "    for j in range(3):    #iterate over a\n",
    "        axs[i,j].set_title(f'a={0.25*(j+1)} and t ={0.25*(i+1)}')\n",
    "        axs[i,j].plot(x_true, true_lst[3*i+j])\n",
    "        axs[i,j].plot(x_true, pred_lst[3*i+j])\n",
    "        axs[i,j].legend(['Exact', 'PINN'])\n",
    "        axs[i,j].set_xlabel('x')\n",
    "        axs[i,j].set_ylabel('u(x,t,a)')\n",
    "plt.suptitle(f'3D Heat equation u(x,t,a) with {model.N_sup}\\u00b3 support points, alpha ={model.alpha}')\n",
    "fig.show;\n",
    "plt.savefig(fname=f'3D Heat equation u(x,t,a) with LHS, LBFGS {model.N_sup}^3 support points, alpha ={model.alpha} ')"
   ]
  },
  {
   "cell_type": "markdown",
   "id": "8d5f8385-98ac-4f2f-b768-d0a66d284d75",
   "metadata": {},
   "source": [
    "### Comparison with different number of Support points, and 2 frequencies, for report"
   ]
  },
  {
   "cell_type": "code",
   "execution_count": null,
   "id": "6a49a57c-0320-4742-8345-78f52241064c",
   "metadata": {},
   "outputs": [],
   "source": [
    "nb_nodes = 20\n",
    "nb_hidden_layers = 7\n",
    "layers = np.hstack([np.array([3]),np.full(nb_hidden_layers, nb_nodes),np.array([1])])\n",
    "for alpha in range(1,3):\n",
    "    #Define exact solution with current alpha\n",
    "    N_true = 100 #Number of points in the true solution\n",
    "    x_true = math.pi*np.linspace(0,1,N_true)\n",
    "    t_true = np.linspace(0,1,N_true)\n",
    "    a_true = np.linspace(0,1,N_true)\n",
    "    x_exact = np.tile(x_true,N_true).repeat(N_true)\n",
    "    t_exact = np.repeat(t_true,N_true**2)\n",
    "    a_exact = np.tile(a_true,N_true**2)\n",
    "    ex = f_exact(x_exact, t_exact, a_exact, alpha).reshape(-1,1)\n",
    "    for sup in np.array([0,10,20,40]):\n",
    "        # Number of points in each dimensions\n",
    "        N_x = 100\n",
    "        N_t = 100\n",
    "        N_a = 100\n",
    "        # generate grid for collocation and boundary points\n",
    "        x = math.pi * np.random.rand(N_x,1,1)\n",
    "        t = np.random.rand(1,N_t,1)\n",
    "        a = np.random.rand(1,1,N_a)\n",
    "        model = PINN(layers, x, t, a, alpha=alpha, N_sup=sup)\n",
    "        model.train()\n",
    "        u_pred, _ = model.predict(x_exact.reshape(-1,1), t_exact.reshape(-1,1), a_exact.reshape(-1,1))\n",
    "        l2_u = l2_norm(u_pred, ex)  \n",
    "        print('L2 Error u: %e' % (l2_norm(u_pred, ex)), f'with alpha = {alpha}', f' and N_sup= {sup}') \n",
    "        # 9 evalutations of f_exact for different fixed values of a and t:\n",
    "        true_lst = [] # list of 9 evaluations of f_exact\n",
    "        pred_lst = [] # list of 9 evaluations of PINN\n",
    "        x_true = x_true.reshape(-1,1)   # evaluate f over fine grid of x_true\n",
    "        x_len = x_true.shape[0]\n",
    "        a_lst = [0.25,0.5,0.75]\n",
    "        t_lst = [0.25,0.5,0.75]\n",
    "        for t_tmp in t_lst:\n",
    "            for a_s in a_lst:\n",
    "                t_vec = t_tmp*np.ones((x_len, 1))\n",
    "                a_vec = a_tmp*np.ones((x_len, 1)) \n",
    "                # evaluate using exaxt solution\n",
    "                true_lst.append(f_exact(x_true,t_vec,a_vec,alpha)) \n",
    "\n",
    "                # evaluate same points using PINN\n",
    "                u_pred, _ = model.predict(x_true.reshape(-1,1), t_vec.reshape(-1,1), a_vec.reshape(-1,1))\n",
    "                pred_lst.append(u_pred)\n",
    "        #Create plot\n",
    "        fig, axs = plt.subplots(3, 3, figsize=(10, 6), sharex=False, constrained_layout = True)\n",
    "        for i in range(3):    #iterate over t\n",
    "            for j in range(3):    #iterate over a\n",
    "                axs[i,j].set_title(f'a={0.25*(j+1)} and t ={0.25*(i+1)}')\n",
    "                axs[i,j].plot(x_true, true_lst[3*i+j])\n",
    "                axs[i,j].plot(x_true, pred_lst[3*i+j])\n",
    "                axs[i,j].legend(['Exact', 'PINN'])\n",
    "                axs[i,j].set_xlabel('x')\n",
    "                axs[i,j].set_ylabel('u(x,t,a)')\n",
    "        plt.suptitle(f'3D Heat equation u(x,t,a) with {model.N_sup}\\u00b3 support points, alpha ={model.alpha}')\n",
    "        fig.show;\n",
    "        plt.savefig(fname=f'3D Heat equation u(x,t,a) with LBFGS {model.N_sup}^3 support points, alpha ={model.alpha} ')"
   ]
  },
  {
   "cell_type": "code",
   "execution_count": null,
   "id": "f7eba028-0e6c-44ba-bf40-3141da677bf4",
   "metadata": {},
   "outputs": [],
   "source": []
  }
 ],
 "metadata": {
  "accelerator": "GPU",
  "colab": {
   "provenance": []
  },
  "gpuClass": "standard",
  "kernelspec": {
   "display_name": "Python 3 (ipykernel)",
   "language": "python",
   "name": "python3"
  },
  "language_info": {
   "codemirror_mode": {
    "name": "ipython",
    "version": 3
   },
   "file_extension": ".py",
   "mimetype": "text/x-python",
   "name": "python",
   "nbconvert_exporter": "python",
   "pygments_lexer": "ipython3",
   "version": "3.9.7"
  }
 },
 "nbformat": 4,
 "nbformat_minor": 5
}
