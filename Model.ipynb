{
 "cells": [
  {
   "cell_type": "code",
   "execution_count": 26,
   "id": "dbc04185-613d-495e-959b-70886a28eb2d",
   "metadata": {},
   "outputs": [],
   "source": [
    "import torch\n",
    "from torch import nn \n",
    "from torch.nn import functional as F\n",
    "from torch import optim\n",
    "from torch.utils.data import Dataset, DataLoader\n",
    "import time\n",
    "import math\n",
    "import seaborn as sns\n",
    "import numpy as np"
   ]
  },
  {
   "cell_type": "code",
   "execution_count": 27,
   "id": "cb7c1e2f-48f9-4a6a-bbb9-a5a05057a79e",
   "metadata": {},
   "outputs": [],
   "source": [
    "class NN(nn.Module):\n",
    "    def __init__(self,):\n",
    "        super(NN, self).__init__()\n",
    "        #Linear layers\n",
    "        self.mod = nn.Sequential(\n",
    "            nn.Linear(2, 20),\n",
    "            torch.nn.Tanh(),\n",
    "            nn.Linear(20, 20),\n",
    "            torch.nn.Tanh(),\n",
    "            nn.Linear(20, 20),\n",
    "            torch.nn.Tanh(),\n",
    "            nn.Linear(20, 20),\n",
    "            torch.nn.Tanh(),\n",
    "            nn.Linear(20, 20),\n",
    "            torch.nn.Tanh(),\n",
    "            #nn.Linear(20, 20),\n",
    "            #torch.nn.Tanh(),\n",
    "            #nn.Linear(20, 20),\n",
    "            #torch.nn.Tanh(),\n",
    "            #nn.Linear(20, 20),\n",
    "            #torch.nn.Tanh(),\n",
    "            nn.Linear(20, 1)\n",
    "        )\n",
    "        \n",
    "    def forward(self, inpu):\n",
    "        out = self.mod(inpu)\n",
    "        return out"
   ]
  },
  {
   "cell_type": "code",
   "execution_count": 42,
   "id": "8686237b-68e1-434d-81af-3c66905c3b26",
   "metadata": {},
   "outputs": [],
   "source": [
    "class Model:\n",
    "    def __init__(self):\n",
    "        device = device = torch.device('cuda:0' if torch.cuda.is_available() else 'cpu')\n",
    "        print(device)\n",
    "        self.model = NN().to(device)\n",
    "        \n",
    "        #Max iteration\n",
    "        self.max_iter = 1000\n",
    "        \n",
    "        #Criterion for loss \n",
    "        self.criterion = nn.MSELoss()\n",
    "        \n",
    "        #Optimizer\n",
    "        self.optimizer = optim.Adam(self.model.parameters())\n",
    "        \n",
    "        self.lbfgs = torch.optim.LBFGS(\n",
    "            self.model.parameters(), \n",
    "            lr=1.0, \n",
    "            max_iter=50000, \n",
    "            max_eval=50000, \n",
    "            history_size=50,\n",
    "            tolerance_grad=1e-5, \n",
    "            tolerance_change=1.0 * np.finfo(float).eps\n",
    "        )\n",
    "        \n",
    "        #Initialization for training\n",
    "        self.x_step = 0.1\n",
    "        self.t_step = 0.1\n",
    "        x = torch.arange(-1, 1+self.x_step, self.x_step) #create grid for x-axis\n",
    "        t = torch.arange(0, 1 + self.t_step, self.t_step) #create grid for t-axis\n",
    "        \n",
    "        #Create grid for solution\n",
    "        self.grid = torch.stack(torch.meshgrid(x, t)).reshape(2, -1).T.to(device) # Create grid of 2D points\n",
    "        self.grid.requires_grad = True\n",
    "        \n",
    "        #Training data\n",
    "        bound_1 = torch.stack(torch.meshgrid(x[0], t)).reshape(2, -1).T # Points for first boundary condition \n",
    "        bound_2 = torch.stack(torch.meshgrid(x[-1], t)).reshape(2, -1).T #Points for second boundary condition\n",
    "        initial = torch.stack(torch.meshgrid(x, t[0])).reshape(2, -1).T # Points for initial condition for x at t=0\n",
    "        \n",
    "        self.train_points = torch.cat([bound_1, bound_2, initial]).to(device) # Training points as a grid\n",
    "        u_b1 = torch.zeros(len(bound_1))\n",
    "        u_b2 = torch.zeros(len(bound_2))\n",
    "        u_initial = -torch.sin(math.pi * initial[:, 0])# use initial condition from paper (Dirichlet boundary conditions)\n",
    "        self.y_train = torch.cat([u_b1, u_b2, u_initial])\n",
    "        self.y_train = self.y_train.unsqueeze(1).to(device)\n",
    "        \"\"\"\n",
    "        self.X = self.X.to(device)\n",
    "        self.X_train = self.X_train.to(device)\n",
    "        self.y_train = self.y_train.to(device)\n",
    "        self.X.requires_grad = True\n",
    "        \"\"\"\n",
    "        self.iter = 1\n",
    "\n",
    "\n",
    "    \n",
    "    def loss(self):\n",
    "        self.lbfgs.zero_grad()\n",
    "        \n",
    "        y = self.model(self.train_points)\n",
    "        loss = self.criterion(y, self.y_train) #Compute first part of loss\n",
    "        u = self.model(self.grid)\n",
    "        \n",
    "        #Compute gradients of grid with respect to u and t\n",
    "        du_dX = torch.autograd.grad(inputs=self.grid, outputs=u, grad_outputs=torch.ones_like(u), retain_graph=True, create_graph=True)[0]\n",
    "        du_dt = du_dX[:, 1]\n",
    "        du_dx = du_dX[:, 0]\n",
    "        du_dx2 = torch.autograd.grad(inputs=self.grid, outputs=du_dX, grad_outputs=torch.ones_like(du_dX), retain_graph=True, create_graph=True)[0][:, 0]\n",
    "        \n",
    "        loss += self.criterion(du_dt + u.squeeze() * du_dx, 0.01/math.pi *du_dx2) #Second part of loss, using f(t,x) as in paper\n",
    "        \n",
    "        loss.backward()\n",
    "        #Print loss every 100 iteration\n",
    "        if self.iter % 100 == 0: \n",
    "            print(self.iter, loss.item())\n",
    "        self.iter = self.iter + 1\n",
    "        return loss\n",
    "\n",
    "    def train(self):\n",
    "        for i in range(self.max_iter):\n",
    "            self.optimizer.step(self.loss)\n",
    "        #self.lbfgs.step(self.loss)\n",
    "        \n",
    "    def predict(self, X):\n",
    "        x = torch.tensor(X[:, 0:1], requires_grad=True).float().to(device)\n",
    "        t = torch.tensor(X[:, 1:2], requires_grad=True).float().to(device)\n",
    "\n",
    "        self.model.eval()\n",
    "        u = self.model(torch.cat([x, t], dim=1))\n",
    "        u = u.detach().cpu().numpy()\n",
    "        return u\n"
   ]
  },
  {
   "cell_type": "code",
   "execution_count": 43,
   "id": "b09dd9e2-79fb-4883-ad37-4b2d71e32ba4",
   "metadata": {},
   "outputs": [
    {
     "name": "stdout",
     "output_type": "stream",
     "text": [
      "cuda:0\n",
      "100 0.18488438427448273\n",
      "200 0.09188462793827057\n",
      "300 0.08227671682834625\n",
      "400 0.05927588790655136\n",
      "500 0.03340955823659897\n",
      "600 0.026856794953346252\n",
      "700 0.022624704986810684\n",
      "800 0.021133139729499817\n",
      "900 0.019752737134695053\n",
      "1000 0.018981296569108963\n"
     ]
    }
   ],
   "source": [
    "model = Model()\n",
    "model.train()"
   ]
  },
  {
   "cell_type": "code",
   "execution_count": 44,
   "id": "844a41da-b9a1-4d6b-aa80-83838c122ad3",
   "metadata": {},
   "outputs": [],
   "source": [
    "h = 0.01\n",
    "k = 0.01\n",
    "x = torch.arange(-1, 1, h)\n",
    "t = torch.arange(0, 1, k)\n",
    "\n",
    "# exact solution\n",
    "grid = torch.stack(torch.meshgrid(x, t)).reshape(2, -1).T\n",
    "grid = grid.to(model.grid.device)"
   ]
  },
  {
   "cell_type": "code",
   "execution_count": 45,
   "id": "7930d2c2-6055-4f73-9bce-17e72150c6cc",
   "metadata": {},
   "outputs": [],
   "source": [
    "mod = model.model\n",
    "mod.eval()\n",
    "with torch.no_grad():\n",
    "    y_pred = mod(grid).reshape(len(x), len(t)).cpu().numpy()"
   ]
  },
  {
   "cell_type": "code",
   "execution_count": 46,
   "id": "e3c9145e-a0d0-4766-8f88-be3e86919855",
   "metadata": {},
   "outputs": [
    {
     "data": {
      "text/plain": [
       "<AxesSubplot:>"
      ]
     },
     "execution_count": 46,
     "metadata": {},
     "output_type": "execute_result"
    },
    {
     "data": {
      "image/png": "[encoded data removed]",
      "text/plain": [
       "<Figure size 432x288 with 2 Axes>"
      ]
     },
     "metadata": {
      "needs_background": "light"
     },
     "output_type": "display_data"
    }
   ],
   "source": [
    "sns.heatmap(y_pred, cmap='jet')"
   ]
  },
  {
   "cell_type": "code",
   "execution_count": 47,
   "id": "127c62dd-c947-45a9-9f9b-2108e1661825",
   "metadata": {},
   "outputs": [
    {
     "ename": "NameError",
     "evalue": "name 'device' is not defined",
     "output_type": "error",
     "traceback": [
      "\u001b[1;31m---------------------------------------------------------------------------\u001b[0m",
      "\u001b[1;31mNameError\u001b[0m                                 Traceback (most recent call last)",
      "\u001b[1;32m~\\AppData\\Local\\Temp/ipykernel_43440/1920711725.py\u001b[0m in \u001b[0;36m<module>\u001b[1;34m\u001b[0m\n\u001b[0;32m     15\u001b[0m \u001b[1;33m\u001b[0m\u001b[0m\n\u001b[0;32m     16\u001b[0m \u001b[1;33m\u001b[0m\u001b[0m\n\u001b[1;32m---> 17\u001b[1;33m \u001b[0mu_pred\u001b[0m \u001b[1;33m=\u001b[0m \u001b[0mmodel\u001b[0m\u001b[1;33m.\u001b[0m\u001b[0mpredict\u001b[0m\u001b[1;33m(\u001b[0m\u001b[0mX_star\u001b[0m\u001b[1;33m)\u001b[0m\u001b[1;33m\u001b[0m\u001b[1;33m\u001b[0m\u001b[0m\n\u001b[0m\u001b[0;32m     18\u001b[0m \u001b[1;33m\u001b[0m\u001b[0m\n\u001b[0;32m     19\u001b[0m \u001b[0merror_u\u001b[0m \u001b[1;33m=\u001b[0m \u001b[0mnp\u001b[0m\u001b[1;33m.\u001b[0m\u001b[0mlinalg\u001b[0m\u001b[1;33m.\u001b[0m\u001b[0mnorm\u001b[0m\u001b[1;33m(\u001b[0m\u001b[0mu_star\u001b[0m\u001b[1;33m-\u001b[0m\u001b[0mu_pred\u001b[0m\u001b[1;33m,\u001b[0m\u001b[1;36m2\u001b[0m\u001b[1;33m)\u001b[0m\u001b[1;33m/\u001b[0m\u001b[0mnp\u001b[0m\u001b[1;33m.\u001b[0m\u001b[0mlinalg\u001b[0m\u001b[1;33m.\u001b[0m\u001b[0mnorm\u001b[0m\u001b[1;33m(\u001b[0m\u001b[0mu_star\u001b[0m\u001b[1;33m,\u001b[0m\u001b[1;36m2\u001b[0m\u001b[1;33m)\u001b[0m\u001b[1;33m\u001b[0m\u001b[1;33m\u001b[0m\u001b[0m\n",
      "\u001b[1;32m~\\AppData\\Local\\Temp/ipykernel_43440/3881797366.py\u001b[0m in \u001b[0;36mpredict\u001b[1;34m(self, X)\u001b[0m\n\u001b[0;32m     83\u001b[0m \u001b[1;33m\u001b[0m\u001b[0m\n\u001b[0;32m     84\u001b[0m     \u001b[1;32mdef\u001b[0m \u001b[0mpredict\u001b[0m\u001b[1;33m(\u001b[0m\u001b[0mself\u001b[0m\u001b[1;33m,\u001b[0m \u001b[0mX\u001b[0m\u001b[1;33m)\u001b[0m\u001b[1;33m:\u001b[0m\u001b[1;33m\u001b[0m\u001b[1;33m\u001b[0m\u001b[0m\n\u001b[1;32m---> 85\u001b[1;33m         \u001b[0mx\u001b[0m \u001b[1;33m=\u001b[0m \u001b[0mtorch\u001b[0m\u001b[1;33m.\u001b[0m\u001b[0mtensor\u001b[0m\u001b[1;33m(\u001b[0m\u001b[0mX\u001b[0m\u001b[1;33m[\u001b[0m\u001b[1;33m:\u001b[0m\u001b[1;33m,\u001b[0m \u001b[1;36m0\u001b[0m\u001b[1;33m:\u001b[0m\u001b[1;36m1\u001b[0m\u001b[1;33m]\u001b[0m\u001b[1;33m,\u001b[0m \u001b[0mrequires_grad\u001b[0m\u001b[1;33m=\u001b[0m\u001b[1;32mTrue\u001b[0m\u001b[1;33m)\u001b[0m\u001b[1;33m.\u001b[0m\u001b[0mfloat\u001b[0m\u001b[1;33m(\u001b[0m\u001b[1;33m)\u001b[0m\u001b[1;33m.\u001b[0m\u001b[0mto\u001b[0m\u001b[1;33m(\u001b[0m\u001b[0mdevice\u001b[0m\u001b[1;33m)\u001b[0m\u001b[1;33m\u001b[0m\u001b[1;33m\u001b[0m\u001b[0m\n\u001b[0m\u001b[0;32m     86\u001b[0m         \u001b[0mt\u001b[0m \u001b[1;33m=\u001b[0m \u001b[0mtorch\u001b[0m\u001b[1;33m.\u001b[0m\u001b[0mtensor\u001b[0m\u001b[1;33m(\u001b[0m\u001b[0mX\u001b[0m\u001b[1;33m[\u001b[0m\u001b[1;33m:\u001b[0m\u001b[1;33m,\u001b[0m \u001b[1;36m1\u001b[0m\u001b[1;33m:\u001b[0m\u001b[1;36m2\u001b[0m\u001b[1;33m]\u001b[0m\u001b[1;33m,\u001b[0m \u001b[0mrequires_grad\u001b[0m\u001b[1;33m=\u001b[0m\u001b[1;32mTrue\u001b[0m\u001b[1;33m)\u001b[0m\u001b[1;33m.\u001b[0m\u001b[0mfloat\u001b[0m\u001b[1;33m(\u001b[0m\u001b[1;33m)\u001b[0m\u001b[1;33m.\u001b[0m\u001b[0mto\u001b[0m\u001b[1;33m(\u001b[0m\u001b[0mdevice\u001b[0m\u001b[1;33m)\u001b[0m\u001b[1;33m\u001b[0m\u001b[1;33m\u001b[0m\u001b[0m\n\u001b[0;32m     87\u001b[0m \u001b[1;33m\u001b[0m\u001b[0m\n",
      "\u001b[1;31mNameError\u001b[0m: name 'device' is not defined"
     ]
    }
   ],
   "source": [
    "import scipy.io\n",
    "from scipy.interpolate import griddata\n",
    "\n",
    "data = scipy.io.loadmat('burgers_shock.mat')\n",
    "\n",
    "t = data['t'].flatten()[:,None] #(100, 1)\n",
    "x = data['x'].flatten()[:,None] #(256, 1)\n",
    "Exact = np.real(data['usol']).T #(100, 256)\n",
    "\n",
    "X, T = np.meshgrid(x,t) #(100, 256) for each\n",
    "\n",
    "X_star = np.hstack((X.flatten()[:,None], T.flatten()[:,None])) #(25600, 2)\n",
    "u_star = Exact.flatten()[:,None] #(25600, 1)\n",
    "\n",
    "\n",
    "\n",
    "u_pred = model.predict(X_star)\n",
    "\n",
    "error_u = np.linalg.norm(u_star-u_pred,2)/np.linalg.norm(u_star,2)\n",
    "print('Error u: %e' % (error_u)) #use this metric to compare model performance                   "
   ]
  },
  {
   "cell_type": "code",
   "execution_count": null,
   "id": "85bdf9ec",
   "metadata": {},
   "outputs": [],
   "source": []
  }
 ],
 "metadata": {
  "kernelspec": {
   "display_name": "Python 3 (ipykernel)",
   "language": "python",
   "name": "python3"
  },
  "language_info": {
   "codemirror_mode": {
    "name": "ipython",
    "version": 3
   },
   "file_extension": ".py",
   "mimetype": "text/x-python",
   "name": "python",
   "nbconvert_exporter": "python",
   "pygments_lexer": "ipython3",
   "version": "3.9.9"
  }
 },
 "nbformat": 4,
 "nbformat_minor": 5
}
